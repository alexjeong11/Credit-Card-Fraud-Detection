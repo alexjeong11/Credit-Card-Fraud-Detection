{
  "nbformat": 4,
  "nbformat_minor": 0,
  "metadata": {
    "colab": {
      "name": "project_jch_save.ipynb",
      "provenance": [],
      "collapsed_sections": [],
      "authorship_tag": "ABX9TyP5yJe97uVozOnXwP3NWr3P",
      "include_colab_link": true
    },
    "kernelspec": {
      "name": "python3",
      "display_name": "Python 3"
    },
    "accelerator": "GPU"
  },
  "cells": [
    {
      "cell_type": "markdown",
      "metadata": {
        "id": "view-in-github",
        "colab_type": "text"
      },
      "source": [
        "<a href=\"https://colab.research.google.com/github/alexjeong11/credit-card-fraud-detection/blob/master/project_jch_save.ipynb\" target=\"_parent\"><img src=\"https://colab.research.google.com/assets/colab-badge.svg\" alt=\"Open In Colab\"/></a>"
      ]
    },
    {
      "cell_type": "markdown",
      "metadata": {
        "id": "gbq9dFaL1ILG",
        "colab_type": "text"
      },
      "source": [
        "## 프로젝트 주제: 신용카드 사기 탐지\n",
        "1. 배경  \n",
        "![1](https://drive.google.com/uc?export=download&id=12v1CRZGbAJwlLJaOrTwMaHdNxor3cLzg)  ![2](https://drive.google.com/uc?export=download&id=1PPQznxOnPg2K_3nlnoMlxvdgzO4R1paX)  \n",
        "분실. 도난 카드, 정보 도용을 통해 결제한 카드사기 규모가 지속적으로 증가 추세임.  \n",
        "이에 효과 적인 대응하기 위한 기술 중 하나인 머신러닝을 이용하여 카드이용 패턴을 분석한 사기탐지(FDS)기술을 프로젝트 주제로 정하였음.\n",
        "---\n",
        "2. 데이터셋  \n",
        "1) Kaggle 공개 데이터 활용:  \n",
        "- Credit Card Fraud Detection(143.84 MB)  \n",
        "2) 데이터 셋 설명  \n",
        "- 2013 년 9 월 신용 카드로 유럽 카드 소지자가 수행한 거래 데이터로 2 일 동안 발생한 거래를 나타내며 전체 284,807 건의 데이터 중 492 건의 사기가 포함됨.  \n",
        "- 데이터 세트의 불균형이 높으며 Fraud로 판별된 Class는 전체의 0.172 %를 차지함.  \n",
        "- 데이터는 개인정보 보호문제로 PCA 변환을 적용하여 숫자 변수 만 포함됨.    \n",
        "- 기능 V1, V2,... V28은 PCA로 얻은 구성 요소이며, “time”과 “amount” 데이터는 PCA 적용이 되지 않았음. “time”은 각 트랜잭션과 데이터 집합의 첫 번째 트랜잭션 사이에 경과 된 초가 포함,   'amount'기능은 거래 금액을 의미함,  \n",
        "- Class는 Binary Classification으로 사기의 경우 값 1, 그렇지 않으면 0으로 구분됨  \n",
        "예시)   \n",
        "![3](https://drive.google.com/uc?export=download&id=1jdww--w_dmWqZ3cR6a_7iy5vqpZCyb80)\n",
        "---\n",
        "3. 데이터 전처리   \n",
        "1) 전처리:  \n",
        "- 데이터 중 값의 분포 범위가 넓은 amount, time 컬럼은 정규화를 통해 분포범위를 줄임.\n",
        "2) 컬럼값 연관성 분석:  \n",
        "- V1~V28 컬럼들과 결과 Class와 correlation분석을 통해 연관성이 떨어지는 데이터 컬럼을 제거 또는 값 범위를 축소 처리함.  \n",
        "3) 학습 데이터 구성  \n",
        "- 사기와 정상 데이터간 불균형(Imbalance)해소를 위해 언더샘플링과 오버샘플링을 수행하여 비교 \n",
        "언더 샘플링 기법은 Random under sampling 사용  \n",
        "오버 샘플링 기법은 SMOTE, GAN(생성적대적신경망)을 사용  \n",
        "---\n",
        "4. 분석 모델:   \n",
        "1) 학습 알고리즘 \n",
        "- 후보 알고리즘들을 적용하여 테스트 정확도를 비교하여 성능을 측정함. \n",
        "+ logistic regression\n",
        "* Decision trees\n",
        "* Random Forest\n",
        "* SVM\n",
        "* DNN  \n",
        "\n",
        "2) 검증\n",
        "k-fold cross-validation 기법을 적용하여 검증을 수행함.  \n",
        "\n",
        "참고논문)\n",
        "이용현, 구해모, 김형주. (2019). 오토인코더를 활용한 효율적인 신용카드 사기 탐지 지도 기 법. 정보과학회 컴퓨팅의 실제 논문지, 25(1), 1-8.\n",
        "김예원, 유예림, 최홍용 (2020) 생성적 적대 신경망과 딥러닝을 활용한 이상거래탐지 시스템 모 형 ,Information Systems Review, 22:1, 59-72\n",
        "\n"
      ]
    },
    {
      "cell_type": "markdown",
      "metadata": {
        "id": "ZTlHLTbRb7Gm",
        "colab_type": "text"
      },
      "source": [
        "* PCA 분석  \n",
        "- 주성분 분석(PCA, Principal Component Analysis)은 가장 대표적인 차원 축소 알고리즘이며\n",
        "PCA는 먼저 데이터에 가장 가까운 초평면(hyperplane)을 구한 다음, 데이터를 이 초평면에 투영(projection)시킨다.\n",
        "1) 분산 보존\n",
        "저차원의 초평면에 데이터를 투영하기 전에 먼저 적절한 초평면을 선택해야 한다. PCA는 데이터의 분산이 최대가 되는 축을 찾는다. 즉, 원본 데이터셋과 투영된 데이터셋 간의 평균제곱거리를 최소화 하는 축을 찾는다. 아래의 그림에서 왼쪽 2차원 데이터셋을 오른쪽 그림처럼 투영했을 때 ​축으로 투영한 데이터가 분산이 최대로 보존되는 것을 확인할 수 있다\n",
        "![대체 텍스트](https://img1.daumcdn.net/thumb/R1280x0/?scode=mtistory2&fname=http%3A%2F%2Fcfile28.uf.tistory.com%2Fimage%2F99AC093E5B8A4904213CC3)  \n",
        "2) 주성분 (Principal Component)\n",
        "* PCA는 다음과 같은 단계로 이루어진다. \n",
        "1. 학습 데이터셋에서 분산이 최대인 축(axis)을 찾는다. \n",
        "2.이렇게 찾은 첫번째 축과 직교(orthogonal)하면서 분산이 최대인 두 번째 축을 찾는다.\n",
        "3.첫 번째 축과 두 번째 축에 직교하고 분산을 최대한 보존하는 세 번째 축을 찾는다.\n",
        "1~3과 같은 방법으로 데이터셋의 차원(특성 수)만큼의 축을 찾는다.\n",
        "![대체 텍스트](https://img1.daumcdn.net/thumb/R1280x0/?scode=mtistory2&fname=http%3A%2F%2Fcfile6.uf.tistory.com%2Fimage%2F996F65335B8A493207D19B)  \n",
        "이렇게 ​-번째 축을 정의하는 단위 벡터(unit vector)를 ​-번째 주성분(PC, Principal Component)이라고 한다.  \n",
        "예를들어, 위의 그림에서는 2차원 데이터셋이므로 PCA는 분산을 최대로 보존하는 단위벡터 ​이 구성하는 축과 이 축에 직교하는 ​가 구성하는 축을 찾게 된다\n",
        "\n",
        "출처: https://excelsior-cjh.tistory.com/167"
      ]
    },
    {
      "cell_type": "code",
      "metadata": {
        "id": "mgk1aKHosBuf",
        "colab_type": "code",
        "outputId": "d04d0adc-ee95-415e-9437-ddff820528b8",
        "colab": {
          "base_uri": "https://localhost:8080/",
          "height": 445
        }
      },
      "source": [
        "import numpy as np \n",
        "import pandas as pd # data processing, CSV file I/O (e.g. pd.read_csv)\n",
        "import tensorflow as tf\n",
        "import matplotlib.pyplot as plt  #statistical data visualization\n",
        "import seaborn as sns # statistical data visualization\n",
        "from sklearn.manifold import TSNE #t-distributed Stochastic Neighbor Embedding.\n",
        "from sklearn.decomposition import PCA, TruncatedSVD\n",
        "import matplotlib.patches as mpatches #2D artist with a face color and an edge color.\n",
        "import time\n",
        "\n",
        "# Classifier Libraries\n",
        "from sklearn.linear_model import LogisticRegression\n",
        "from sklearn.svm import SVC\n",
        "from sklearn.neighbors import KNeighborsClassifier\n",
        "from sklearn.tree import DecisionTreeClassifier\n",
        "from sklearn.ensemble import RandomForestClassifier\n",
        "import collections\n",
        "\n",
        "\n",
        "# Other Libraries\n",
        "from sklearn.model_selection import train_test_split #Split arrays or matrices into random train and test subsets\n",
        "from sklearn.pipeline import make_pipeline #Construct a Pipeline from the given estimators.\n",
        "from imblearn.pipeline import make_pipeline as imbalanced_make_pipeline\n",
        "from imblearn.over_sampling import SMOTE\n",
        "from imblearn.under_sampling import NearMiss\n",
        "from imblearn.metrics import classification_report_imbalanced\n",
        "from sklearn.metrics import precision_score, recall_score, f1_score, roc_auc_score, accuracy_score, classification_report\n",
        "from collections import Counter\n",
        "from sklearn.model_selection import KFold, StratifiedKFold\n",
        "import warnings\n",
        "warnings.filterwarnings(\"ignore\")\n",
        "\n",
        "#goolge drive mount\n",
        "from google.colab import drive\n",
        "drive.mount('/content/gdrive')\n",
        "\n",
        "#read from google drive\n",
        "data = pd.read_csv('/content/gdrive/My Drive/Colab Notebooks/data/creditcard.csv')\n",
        "#data sample\n",
        "data.head()\n",
        "\n"
      ],
      "execution_count": 1,
      "outputs": [
        {
          "output_type": "stream",
          "text": [
            "/usr/local/lib/python3.6/dist-packages/statsmodels/tools/_testing.py:19: FutureWarning: pandas.util.testing is deprecated. Use the functions in the public API at pandas.testing instead.\n",
            "  import pandas.util.testing as tm\n",
            "/usr/local/lib/python3.6/dist-packages/sklearn/externals/six.py:31: FutureWarning: The module is deprecated in version 0.21 and will be removed in version 0.23 since we've dropped support for Python 2.7. Please rely on the official version of six (https://pypi.org/project/six/).\n",
            "  \"(https://pypi.org/project/six/).\", FutureWarning)\n",
            "/usr/local/lib/python3.6/dist-packages/sklearn/utils/deprecation.py:144: FutureWarning: The sklearn.neighbors.base module is  deprecated in version 0.22 and will be removed in version 0.24. The corresponding classes / functions should instead be imported from sklearn.neighbors. Anything that cannot be imported from sklearn.neighbors is now part of the private API.\n",
            "  warnings.warn(message, FutureWarning)\n",
            "/usr/local/lib/python3.6/dist-packages/sklearn/utils/deprecation.py:144: FutureWarning: The sklearn.metrics.classification module is  deprecated in version 0.22 and will be removed in version 0.24. The corresponding classes / functions should instead be imported from sklearn.metrics. Anything that cannot be imported from sklearn.metrics is now part of the private API.\n",
            "  warnings.warn(message, FutureWarning)\n"
          ],
          "name": "stderr"
        },
        {
          "output_type": "stream",
          "text": [
            "Go to this URL in a browser: https://accounts.google.com/o/oauth2/auth?client_id=947318989803-6bn6qk8qdgf4n4g3pfee6491hc0brc4i.apps.googleusercontent.com&redirect_uri=urn%3aietf%3awg%3aoauth%3a2.0%3aoob&response_type=code&scope=email%20https%3a%2f%2fwww.googleapis.com%2fauth%2fdocs.test%20https%3a%2f%2fwww.googleapis.com%2fauth%2fdrive%20https%3a%2f%2fwww.googleapis.com%2fauth%2fdrive.photos.readonly%20https%3a%2f%2fwww.googleapis.com%2fauth%2fpeopleapi.readonly\n",
            "\n",
            "Enter your authorization code:\n",
            "··········\n",
            "Mounted at /content/gdrive\n"
          ],
          "name": "stdout"
        },
        {
          "output_type": "execute_result",
          "data": {
            "text/html": [
              "<div>\n",
              "<style scoped>\n",
              "    .dataframe tbody tr th:only-of-type {\n",
              "        vertical-align: middle;\n",
              "    }\n",
              "\n",
              "    .dataframe tbody tr th {\n",
              "        vertical-align: top;\n",
              "    }\n",
              "\n",
              "    .dataframe thead th {\n",
              "        text-align: right;\n",
              "    }\n",
              "</style>\n",
              "<table border=\"1\" class=\"dataframe\">\n",
              "  <thead>\n",
              "    <tr style=\"text-align: right;\">\n",
              "      <th></th>\n",
              "      <th>Time</th>\n",
              "      <th>V1</th>\n",
              "      <th>V2</th>\n",
              "      <th>V3</th>\n",
              "      <th>V4</th>\n",
              "      <th>V5</th>\n",
              "      <th>V6</th>\n",
              "      <th>V7</th>\n",
              "      <th>V8</th>\n",
              "      <th>V9</th>\n",
              "      <th>V10</th>\n",
              "      <th>V11</th>\n",
              "      <th>V12</th>\n",
              "      <th>V13</th>\n",
              "      <th>V14</th>\n",
              "      <th>V15</th>\n",
              "      <th>V16</th>\n",
              "      <th>V17</th>\n",
              "      <th>V18</th>\n",
              "      <th>V19</th>\n",
              "      <th>V20</th>\n",
              "      <th>V21</th>\n",
              "      <th>V22</th>\n",
              "      <th>V23</th>\n",
              "      <th>V24</th>\n",
              "      <th>V25</th>\n",
              "      <th>V26</th>\n",
              "      <th>V27</th>\n",
              "      <th>V28</th>\n",
              "      <th>Amount</th>\n",
              "      <th>Class</th>\n",
              "    </tr>\n",
              "  </thead>\n",
              "  <tbody>\n",
              "    <tr>\n",
              "      <th>0</th>\n",
              "      <td>0.0</td>\n",
              "      <td>-1.359807</td>\n",
              "      <td>-0.072781</td>\n",
              "      <td>2.536347</td>\n",
              "      <td>1.378155</td>\n",
              "      <td>-0.338321</td>\n",
              "      <td>0.462388</td>\n",
              "      <td>0.239599</td>\n",
              "      <td>0.098698</td>\n",
              "      <td>0.363787</td>\n",
              "      <td>0.090794</td>\n",
              "      <td>-0.551600</td>\n",
              "      <td>-0.617801</td>\n",
              "      <td>-0.991390</td>\n",
              "      <td>-0.311169</td>\n",
              "      <td>1.468177</td>\n",
              "      <td>-0.470401</td>\n",
              "      <td>0.207971</td>\n",
              "      <td>0.025791</td>\n",
              "      <td>0.403993</td>\n",
              "      <td>0.251412</td>\n",
              "      <td>-0.018307</td>\n",
              "      <td>0.277838</td>\n",
              "      <td>-0.110474</td>\n",
              "      <td>0.066928</td>\n",
              "      <td>0.128539</td>\n",
              "      <td>-0.189115</td>\n",
              "      <td>0.133558</td>\n",
              "      <td>-0.021053</td>\n",
              "      <td>149.62</td>\n",
              "      <td>0</td>\n",
              "    </tr>\n",
              "    <tr>\n",
              "      <th>1</th>\n",
              "      <td>0.0</td>\n",
              "      <td>1.191857</td>\n",
              "      <td>0.266151</td>\n",
              "      <td>0.166480</td>\n",
              "      <td>0.448154</td>\n",
              "      <td>0.060018</td>\n",
              "      <td>-0.082361</td>\n",
              "      <td>-0.078803</td>\n",
              "      <td>0.085102</td>\n",
              "      <td>-0.255425</td>\n",
              "      <td>-0.166974</td>\n",
              "      <td>1.612727</td>\n",
              "      <td>1.065235</td>\n",
              "      <td>0.489095</td>\n",
              "      <td>-0.143772</td>\n",
              "      <td>0.635558</td>\n",
              "      <td>0.463917</td>\n",
              "      <td>-0.114805</td>\n",
              "      <td>-0.183361</td>\n",
              "      <td>-0.145783</td>\n",
              "      <td>-0.069083</td>\n",
              "      <td>-0.225775</td>\n",
              "      <td>-0.638672</td>\n",
              "      <td>0.101288</td>\n",
              "      <td>-0.339846</td>\n",
              "      <td>0.167170</td>\n",
              "      <td>0.125895</td>\n",
              "      <td>-0.008983</td>\n",
              "      <td>0.014724</td>\n",
              "      <td>2.69</td>\n",
              "      <td>0</td>\n",
              "    </tr>\n",
              "    <tr>\n",
              "      <th>2</th>\n",
              "      <td>1.0</td>\n",
              "      <td>-1.358354</td>\n",
              "      <td>-1.340163</td>\n",
              "      <td>1.773209</td>\n",
              "      <td>0.379780</td>\n",
              "      <td>-0.503198</td>\n",
              "      <td>1.800499</td>\n",
              "      <td>0.791461</td>\n",
              "      <td>0.247676</td>\n",
              "      <td>-1.514654</td>\n",
              "      <td>0.207643</td>\n",
              "      <td>0.624501</td>\n",
              "      <td>0.066084</td>\n",
              "      <td>0.717293</td>\n",
              "      <td>-0.165946</td>\n",
              "      <td>2.345865</td>\n",
              "      <td>-2.890083</td>\n",
              "      <td>1.109969</td>\n",
              "      <td>-0.121359</td>\n",
              "      <td>-2.261857</td>\n",
              "      <td>0.524980</td>\n",
              "      <td>0.247998</td>\n",
              "      <td>0.771679</td>\n",
              "      <td>0.909412</td>\n",
              "      <td>-0.689281</td>\n",
              "      <td>-0.327642</td>\n",
              "      <td>-0.139097</td>\n",
              "      <td>-0.055353</td>\n",
              "      <td>-0.059752</td>\n",
              "      <td>378.66</td>\n",
              "      <td>0</td>\n",
              "    </tr>\n",
              "    <tr>\n",
              "      <th>3</th>\n",
              "      <td>1.0</td>\n",
              "      <td>-0.966272</td>\n",
              "      <td>-0.185226</td>\n",
              "      <td>1.792993</td>\n",
              "      <td>-0.863291</td>\n",
              "      <td>-0.010309</td>\n",
              "      <td>1.247203</td>\n",
              "      <td>0.237609</td>\n",
              "      <td>0.377436</td>\n",
              "      <td>-1.387024</td>\n",
              "      <td>-0.054952</td>\n",
              "      <td>-0.226487</td>\n",
              "      <td>0.178228</td>\n",
              "      <td>0.507757</td>\n",
              "      <td>-0.287924</td>\n",
              "      <td>-0.631418</td>\n",
              "      <td>-1.059647</td>\n",
              "      <td>-0.684093</td>\n",
              "      <td>1.965775</td>\n",
              "      <td>-1.232622</td>\n",
              "      <td>-0.208038</td>\n",
              "      <td>-0.108300</td>\n",
              "      <td>0.005274</td>\n",
              "      <td>-0.190321</td>\n",
              "      <td>-1.175575</td>\n",
              "      <td>0.647376</td>\n",
              "      <td>-0.221929</td>\n",
              "      <td>0.062723</td>\n",
              "      <td>0.061458</td>\n",
              "      <td>123.50</td>\n",
              "      <td>0</td>\n",
              "    </tr>\n",
              "    <tr>\n",
              "      <th>4</th>\n",
              "      <td>2.0</td>\n",
              "      <td>-1.158233</td>\n",
              "      <td>0.877737</td>\n",
              "      <td>1.548718</td>\n",
              "      <td>0.403034</td>\n",
              "      <td>-0.407193</td>\n",
              "      <td>0.095921</td>\n",
              "      <td>0.592941</td>\n",
              "      <td>-0.270533</td>\n",
              "      <td>0.817739</td>\n",
              "      <td>0.753074</td>\n",
              "      <td>-0.822843</td>\n",
              "      <td>0.538196</td>\n",
              "      <td>1.345852</td>\n",
              "      <td>-1.119670</td>\n",
              "      <td>0.175121</td>\n",
              "      <td>-0.451449</td>\n",
              "      <td>-0.237033</td>\n",
              "      <td>-0.038195</td>\n",
              "      <td>0.803487</td>\n",
              "      <td>0.408542</td>\n",
              "      <td>-0.009431</td>\n",
              "      <td>0.798278</td>\n",
              "      <td>-0.137458</td>\n",
              "      <td>0.141267</td>\n",
              "      <td>-0.206010</td>\n",
              "      <td>0.502292</td>\n",
              "      <td>0.219422</td>\n",
              "      <td>0.215153</td>\n",
              "      <td>69.99</td>\n",
              "      <td>0</td>\n",
              "    </tr>\n",
              "  </tbody>\n",
              "</table>\n",
              "</div>"
            ],
            "text/plain": [
              "   Time        V1        V2        V3  ...       V27       V28  Amount  Class\n",
              "0   0.0 -1.359807 -0.072781  2.536347  ...  0.133558 -0.021053  149.62      0\n",
              "1   0.0  1.191857  0.266151  0.166480  ... -0.008983  0.014724    2.69      0\n",
              "2   1.0 -1.358354 -1.340163  1.773209  ... -0.055353 -0.059752  378.66      0\n",
              "3   1.0 -0.966272 -0.185226  1.792993  ...  0.062723  0.061458  123.50      0\n",
              "4   2.0 -1.158233  0.877737  1.548718  ...  0.219422  0.215153   69.99      0\n",
              "\n",
              "[5 rows x 31 columns]"
            ]
          },
          "metadata": {
            "tags": []
          },
          "execution_count": 1
        }
      ]
    },
    {
      "cell_type": "code",
      "metadata": {
        "id": "uJJXmB1YKHRU",
        "colab_type": "code",
        "outputId": "9f628d83-5f7b-4022-f2d3-3143979c839b",
        "colab": {
          "base_uri": "https://localhost:8080/",
          "height": 351
        }
      },
      "source": [
        "#data 정보 요약\n",
        "data.describe()"
      ],
      "execution_count": 2,
      "outputs": [
        {
          "output_type": "execute_result",
          "data": {
            "text/html": [
              "<div>\n",
              "<style scoped>\n",
              "    .dataframe tbody tr th:only-of-type {\n",
              "        vertical-align: middle;\n",
              "    }\n",
              "\n",
              "    .dataframe tbody tr th {\n",
              "        vertical-align: top;\n",
              "    }\n",
              "\n",
              "    .dataframe thead th {\n",
              "        text-align: right;\n",
              "    }\n",
              "</style>\n",
              "<table border=\"1\" class=\"dataframe\">\n",
              "  <thead>\n",
              "    <tr style=\"text-align: right;\">\n",
              "      <th></th>\n",
              "      <th>Time</th>\n",
              "      <th>V1</th>\n",
              "      <th>V2</th>\n",
              "      <th>V3</th>\n",
              "      <th>V4</th>\n",
              "      <th>V5</th>\n",
              "      <th>V6</th>\n",
              "      <th>V7</th>\n",
              "      <th>V8</th>\n",
              "      <th>V9</th>\n",
              "      <th>V10</th>\n",
              "      <th>V11</th>\n",
              "      <th>V12</th>\n",
              "      <th>V13</th>\n",
              "      <th>V14</th>\n",
              "      <th>V15</th>\n",
              "      <th>V16</th>\n",
              "      <th>V17</th>\n",
              "      <th>V18</th>\n",
              "      <th>V19</th>\n",
              "      <th>V20</th>\n",
              "      <th>V21</th>\n",
              "      <th>V22</th>\n",
              "      <th>V23</th>\n",
              "      <th>V24</th>\n",
              "      <th>V25</th>\n",
              "      <th>V26</th>\n",
              "      <th>V27</th>\n",
              "      <th>V28</th>\n",
              "      <th>Amount</th>\n",
              "      <th>Class</th>\n",
              "    </tr>\n",
              "  </thead>\n",
              "  <tbody>\n",
              "    <tr>\n",
              "      <th>count</th>\n",
              "      <td>284807.000000</td>\n",
              "      <td>2.848070e+05</td>\n",
              "      <td>2.848070e+05</td>\n",
              "      <td>2.848070e+05</td>\n",
              "      <td>2.848070e+05</td>\n",
              "      <td>2.848070e+05</td>\n",
              "      <td>2.848070e+05</td>\n",
              "      <td>2.848070e+05</td>\n",
              "      <td>2.848070e+05</td>\n",
              "      <td>2.848070e+05</td>\n",
              "      <td>2.848070e+05</td>\n",
              "      <td>2.848070e+05</td>\n",
              "      <td>2.848070e+05</td>\n",
              "      <td>2.848070e+05</td>\n",
              "      <td>2.848070e+05</td>\n",
              "      <td>2.848070e+05</td>\n",
              "      <td>2.848070e+05</td>\n",
              "      <td>2.848070e+05</td>\n",
              "      <td>2.848070e+05</td>\n",
              "      <td>2.848070e+05</td>\n",
              "      <td>2.848070e+05</td>\n",
              "      <td>2.848070e+05</td>\n",
              "      <td>2.848070e+05</td>\n",
              "      <td>2.848070e+05</td>\n",
              "      <td>2.848070e+05</td>\n",
              "      <td>2.848070e+05</td>\n",
              "      <td>2.848070e+05</td>\n",
              "      <td>2.848070e+05</td>\n",
              "      <td>2.848070e+05</td>\n",
              "      <td>284807.000000</td>\n",
              "      <td>284807.000000</td>\n",
              "    </tr>\n",
              "    <tr>\n",
              "      <th>mean</th>\n",
              "      <td>94813.859575</td>\n",
              "      <td>3.919560e-15</td>\n",
              "      <td>5.688174e-16</td>\n",
              "      <td>-8.769071e-15</td>\n",
              "      <td>2.782312e-15</td>\n",
              "      <td>-1.552563e-15</td>\n",
              "      <td>2.010663e-15</td>\n",
              "      <td>-1.694249e-15</td>\n",
              "      <td>-1.927028e-16</td>\n",
              "      <td>-3.137024e-15</td>\n",
              "      <td>1.768627e-15</td>\n",
              "      <td>9.170318e-16</td>\n",
              "      <td>-1.810658e-15</td>\n",
              "      <td>1.693438e-15</td>\n",
              "      <td>1.479045e-15</td>\n",
              "      <td>3.482336e-15</td>\n",
              "      <td>1.392007e-15</td>\n",
              "      <td>-7.528491e-16</td>\n",
              "      <td>4.328772e-16</td>\n",
              "      <td>9.049732e-16</td>\n",
              "      <td>5.085503e-16</td>\n",
              "      <td>1.537294e-16</td>\n",
              "      <td>7.959909e-16</td>\n",
              "      <td>5.367590e-16</td>\n",
              "      <td>4.458112e-15</td>\n",
              "      <td>1.453003e-15</td>\n",
              "      <td>1.699104e-15</td>\n",
              "      <td>-3.660161e-16</td>\n",
              "      <td>-1.206049e-16</td>\n",
              "      <td>88.349619</td>\n",
              "      <td>0.001727</td>\n",
              "    </tr>\n",
              "    <tr>\n",
              "      <th>std</th>\n",
              "      <td>47488.145955</td>\n",
              "      <td>1.958696e+00</td>\n",
              "      <td>1.651309e+00</td>\n",
              "      <td>1.516255e+00</td>\n",
              "      <td>1.415869e+00</td>\n",
              "      <td>1.380247e+00</td>\n",
              "      <td>1.332271e+00</td>\n",
              "      <td>1.237094e+00</td>\n",
              "      <td>1.194353e+00</td>\n",
              "      <td>1.098632e+00</td>\n",
              "      <td>1.088850e+00</td>\n",
              "      <td>1.020713e+00</td>\n",
              "      <td>9.992014e-01</td>\n",
              "      <td>9.952742e-01</td>\n",
              "      <td>9.585956e-01</td>\n",
              "      <td>9.153160e-01</td>\n",
              "      <td>8.762529e-01</td>\n",
              "      <td>8.493371e-01</td>\n",
              "      <td>8.381762e-01</td>\n",
              "      <td>8.140405e-01</td>\n",
              "      <td>7.709250e-01</td>\n",
              "      <td>7.345240e-01</td>\n",
              "      <td>7.257016e-01</td>\n",
              "      <td>6.244603e-01</td>\n",
              "      <td>6.056471e-01</td>\n",
              "      <td>5.212781e-01</td>\n",
              "      <td>4.822270e-01</td>\n",
              "      <td>4.036325e-01</td>\n",
              "      <td>3.300833e-01</td>\n",
              "      <td>250.120109</td>\n",
              "      <td>0.041527</td>\n",
              "    </tr>\n",
              "    <tr>\n",
              "      <th>min</th>\n",
              "      <td>0.000000</td>\n",
              "      <td>-5.640751e+01</td>\n",
              "      <td>-7.271573e+01</td>\n",
              "      <td>-4.832559e+01</td>\n",
              "      <td>-5.683171e+00</td>\n",
              "      <td>-1.137433e+02</td>\n",
              "      <td>-2.616051e+01</td>\n",
              "      <td>-4.355724e+01</td>\n",
              "      <td>-7.321672e+01</td>\n",
              "      <td>-1.343407e+01</td>\n",
              "      <td>-2.458826e+01</td>\n",
              "      <td>-4.797473e+00</td>\n",
              "      <td>-1.868371e+01</td>\n",
              "      <td>-5.791881e+00</td>\n",
              "      <td>-1.921433e+01</td>\n",
              "      <td>-4.498945e+00</td>\n",
              "      <td>-1.412985e+01</td>\n",
              "      <td>-2.516280e+01</td>\n",
              "      <td>-9.498746e+00</td>\n",
              "      <td>-7.213527e+00</td>\n",
              "      <td>-5.449772e+01</td>\n",
              "      <td>-3.483038e+01</td>\n",
              "      <td>-1.093314e+01</td>\n",
              "      <td>-4.480774e+01</td>\n",
              "      <td>-2.836627e+00</td>\n",
              "      <td>-1.029540e+01</td>\n",
              "      <td>-2.604551e+00</td>\n",
              "      <td>-2.256568e+01</td>\n",
              "      <td>-1.543008e+01</td>\n",
              "      <td>0.000000</td>\n",
              "      <td>0.000000</td>\n",
              "    </tr>\n",
              "    <tr>\n",
              "      <th>25%</th>\n",
              "      <td>54201.500000</td>\n",
              "      <td>-9.203734e-01</td>\n",
              "      <td>-5.985499e-01</td>\n",
              "      <td>-8.903648e-01</td>\n",
              "      <td>-8.486401e-01</td>\n",
              "      <td>-6.915971e-01</td>\n",
              "      <td>-7.682956e-01</td>\n",
              "      <td>-5.540759e-01</td>\n",
              "      <td>-2.086297e-01</td>\n",
              "      <td>-6.430976e-01</td>\n",
              "      <td>-5.354257e-01</td>\n",
              "      <td>-7.624942e-01</td>\n",
              "      <td>-4.055715e-01</td>\n",
              "      <td>-6.485393e-01</td>\n",
              "      <td>-4.255740e-01</td>\n",
              "      <td>-5.828843e-01</td>\n",
              "      <td>-4.680368e-01</td>\n",
              "      <td>-4.837483e-01</td>\n",
              "      <td>-4.988498e-01</td>\n",
              "      <td>-4.562989e-01</td>\n",
              "      <td>-2.117214e-01</td>\n",
              "      <td>-2.283949e-01</td>\n",
              "      <td>-5.423504e-01</td>\n",
              "      <td>-1.618463e-01</td>\n",
              "      <td>-3.545861e-01</td>\n",
              "      <td>-3.171451e-01</td>\n",
              "      <td>-3.269839e-01</td>\n",
              "      <td>-7.083953e-02</td>\n",
              "      <td>-5.295979e-02</td>\n",
              "      <td>5.600000</td>\n",
              "      <td>0.000000</td>\n",
              "    </tr>\n",
              "    <tr>\n",
              "      <th>50%</th>\n",
              "      <td>84692.000000</td>\n",
              "      <td>1.810880e-02</td>\n",
              "      <td>6.548556e-02</td>\n",
              "      <td>1.798463e-01</td>\n",
              "      <td>-1.984653e-02</td>\n",
              "      <td>-5.433583e-02</td>\n",
              "      <td>-2.741871e-01</td>\n",
              "      <td>4.010308e-02</td>\n",
              "      <td>2.235804e-02</td>\n",
              "      <td>-5.142873e-02</td>\n",
              "      <td>-9.291738e-02</td>\n",
              "      <td>-3.275735e-02</td>\n",
              "      <td>1.400326e-01</td>\n",
              "      <td>-1.356806e-02</td>\n",
              "      <td>5.060132e-02</td>\n",
              "      <td>4.807155e-02</td>\n",
              "      <td>6.641332e-02</td>\n",
              "      <td>-6.567575e-02</td>\n",
              "      <td>-3.636312e-03</td>\n",
              "      <td>3.734823e-03</td>\n",
              "      <td>-6.248109e-02</td>\n",
              "      <td>-2.945017e-02</td>\n",
              "      <td>6.781943e-03</td>\n",
              "      <td>-1.119293e-02</td>\n",
              "      <td>4.097606e-02</td>\n",
              "      <td>1.659350e-02</td>\n",
              "      <td>-5.213911e-02</td>\n",
              "      <td>1.342146e-03</td>\n",
              "      <td>1.124383e-02</td>\n",
              "      <td>22.000000</td>\n",
              "      <td>0.000000</td>\n",
              "    </tr>\n",
              "    <tr>\n",
              "      <th>75%</th>\n",
              "      <td>139320.500000</td>\n",
              "      <td>1.315642e+00</td>\n",
              "      <td>8.037239e-01</td>\n",
              "      <td>1.027196e+00</td>\n",
              "      <td>7.433413e-01</td>\n",
              "      <td>6.119264e-01</td>\n",
              "      <td>3.985649e-01</td>\n",
              "      <td>5.704361e-01</td>\n",
              "      <td>3.273459e-01</td>\n",
              "      <td>5.971390e-01</td>\n",
              "      <td>4.539234e-01</td>\n",
              "      <td>7.395934e-01</td>\n",
              "      <td>6.182380e-01</td>\n",
              "      <td>6.625050e-01</td>\n",
              "      <td>4.931498e-01</td>\n",
              "      <td>6.488208e-01</td>\n",
              "      <td>5.232963e-01</td>\n",
              "      <td>3.996750e-01</td>\n",
              "      <td>5.008067e-01</td>\n",
              "      <td>4.589494e-01</td>\n",
              "      <td>1.330408e-01</td>\n",
              "      <td>1.863772e-01</td>\n",
              "      <td>5.285536e-01</td>\n",
              "      <td>1.476421e-01</td>\n",
              "      <td>4.395266e-01</td>\n",
              "      <td>3.507156e-01</td>\n",
              "      <td>2.409522e-01</td>\n",
              "      <td>9.104512e-02</td>\n",
              "      <td>7.827995e-02</td>\n",
              "      <td>77.165000</td>\n",
              "      <td>0.000000</td>\n",
              "    </tr>\n",
              "    <tr>\n",
              "      <th>max</th>\n",
              "      <td>172792.000000</td>\n",
              "      <td>2.454930e+00</td>\n",
              "      <td>2.205773e+01</td>\n",
              "      <td>9.382558e+00</td>\n",
              "      <td>1.687534e+01</td>\n",
              "      <td>3.480167e+01</td>\n",
              "      <td>7.330163e+01</td>\n",
              "      <td>1.205895e+02</td>\n",
              "      <td>2.000721e+01</td>\n",
              "      <td>1.559499e+01</td>\n",
              "      <td>2.374514e+01</td>\n",
              "      <td>1.201891e+01</td>\n",
              "      <td>7.848392e+00</td>\n",
              "      <td>7.126883e+00</td>\n",
              "      <td>1.052677e+01</td>\n",
              "      <td>8.877742e+00</td>\n",
              "      <td>1.731511e+01</td>\n",
              "      <td>9.253526e+00</td>\n",
              "      <td>5.041069e+00</td>\n",
              "      <td>5.591971e+00</td>\n",
              "      <td>3.942090e+01</td>\n",
              "      <td>2.720284e+01</td>\n",
              "      <td>1.050309e+01</td>\n",
              "      <td>2.252841e+01</td>\n",
              "      <td>4.584549e+00</td>\n",
              "      <td>7.519589e+00</td>\n",
              "      <td>3.517346e+00</td>\n",
              "      <td>3.161220e+01</td>\n",
              "      <td>3.384781e+01</td>\n",
              "      <td>25691.160000</td>\n",
              "      <td>1.000000</td>\n",
              "    </tr>\n",
              "  </tbody>\n",
              "</table>\n",
              "</div>"
            ],
            "text/plain": [
              "                Time            V1  ...         Amount          Class\n",
              "count  284807.000000  2.848070e+05  ...  284807.000000  284807.000000\n",
              "mean    94813.859575  3.919560e-15  ...      88.349619       0.001727\n",
              "std     47488.145955  1.958696e+00  ...     250.120109       0.041527\n",
              "min         0.000000 -5.640751e+01  ...       0.000000       0.000000\n",
              "25%     54201.500000 -9.203734e-01  ...       5.600000       0.000000\n",
              "50%     84692.000000  1.810880e-02  ...      22.000000       0.000000\n",
              "75%    139320.500000  1.315642e+00  ...      77.165000       0.000000\n",
              "max    172792.000000  2.454930e+00  ...   25691.160000       1.000000\n",
              "\n",
              "[8 rows x 31 columns]"
            ]
          },
          "metadata": {
            "tags": []
          },
          "execution_count": 2
        }
      ]
    },
    {
      "cell_type": "code",
      "metadata": {
        "id": "EAq9IYkdKPyv",
        "colab_type": "code",
        "outputId": "5744de1d-690e-4ad8-b453-958f966110ff",
        "colab": {
          "base_uri": "https://localhost:8080/",
          "height": 34
        }
      },
      "source": [
        "# null 항목값 조회\n",
        "data.isnull().sum().max()"
      ],
      "execution_count": 3,
      "outputs": [
        {
          "output_type": "execute_result",
          "data": {
            "text/plain": [
              "0"
            ]
          },
          "metadata": {
            "tags": []
          },
          "execution_count": 3
        }
      ]
    },
    {
      "cell_type": "code",
      "metadata": {
        "id": "4wez8lEzKVXk",
        "colab_type": "code",
        "outputId": "3791e7e7-169f-4980-df0d-3527a63c460e",
        "colab": {
          "base_uri": "https://localhost:8080/",
          "height": 102
        }
      },
      "source": [
        "#컬럼 정보 조회\n",
        "data.columns"
      ],
      "execution_count": 4,
      "outputs": [
        {
          "output_type": "execute_result",
          "data": {
            "text/plain": [
              "Index(['Time', 'V1', 'V2', 'V3', 'V4', 'V5', 'V6', 'V7', 'V8', 'V9', 'V10',\n",
              "       'V11', 'V12', 'V13', 'V14', 'V15', 'V16', 'V17', 'V18', 'V19', 'V20',\n",
              "       'V21', 'V22', 'V23', 'V24', 'V25', 'V26', 'V27', 'V28', 'Amount',\n",
              "       'Class'],\n",
              "      dtype='object')"
            ]
          },
          "metadata": {
            "tags": []
          },
          "execution_count": 4
        }
      ]
    },
    {
      "cell_type": "code",
      "metadata": {
        "id": "aqTA5QBXKaiN",
        "colab_type": "code",
        "outputId": "e52b7d8f-33a6-45f8-df8f-1b43f3a21feb",
        "colab": {
          "base_uri": "https://localhost:8080/",
          "height": 364
        }
      },
      "source": [
        " # class별 데이터 비율 조회\n",
        "print('No Frauds', round(data['Class'].value_counts()[0]/len(data) * 100,2), '%')\n",
        "print('Frauds', round(data['Class'].value_counts()[1]/len(data) * 100,2), '%')\n",
        "\n",
        "colors = [\"#0101DF\", \"#DF0101\"]\n",
        "\n",
        "sns.countplot('Class', data=data, palette=colors)\n",
        "plt.title('Class Distributions \\n (0: No Fraud || 1: Fraud)', fontsize=14)\n",
        " "
      ],
      "execution_count": 5,
      "outputs": [
        {
          "output_type": "stream",
          "text": [
            "No Frauds 99.83 %\n",
            "Frauds 0.17 %\n"
          ],
          "name": "stdout"
        },
        {
          "output_type": "execute_result",
          "data": {
            "text/plain": [
              "Text(0.5, 1.0, 'Class Distributions \\n (0: No Fraud || 1: Fraud)')"
            ]
          },
          "metadata": {
            "tags": []
          },
          "execution_count": 5
        },
        {
          "output_type": "display_data",
          "data": {
            "image/png": "[encoded data removed]",
            "text/plain": [
              "<Figure size 432x288 with 1 Axes>"
            ]
          },
          "metadata": {
            "tags": [],
            "needs_background": "light"
          }
        }
      ]
    },
    {
      "cell_type": "markdown",
      "metadata": {
        "id": "vWCdZVTAaQcv",
        "colab_type": "text"
      },
      "source": [
        "* 데이터 대부분이 사기에 아닌 class에 속해 있어 학습과정에서 원본을 그대로 사용할 경우 overfitting, 및 데이터 항목간 correlation  문제 발생가능성이 있음. \n",
        "* amount, time항목은 분포가 불규칙하여 scaling이 필요함."
      ]
    },
    {
      "cell_type": "code",
      "metadata": {
        "id": "nsI75acJKmgx",
        "colab_type": "code",
        "outputId": "182d752f-3a2c-41a3-8e6c-a4a70ab54a3b",
        "colab": {
          "base_uri": "https://localhost:8080/",
          "height": 275
        }
      },
      "source": [
        "fig, ax = plt.subplots(1, 2, figsize=(18,4))\n",
        "\n",
        "amount_val = data['Amount'].values\n",
        "time_val = data['Time'].values\n",
        "\n",
        "sns.distplot(amount_val, ax=ax[0], color='r')\n",
        "ax[0].set_title('Distribution of Transaction Amount', fontsize=14)\n",
        "ax[0].set_xlim([min(amount_val), max(amount_val)])\n",
        "\n",
        "sns.distplot(time_val, ax=ax[1], color='b')\n",
        "ax[1].set_title('Distribution of Transaction Time', fontsize=14)\n",
        "ax[1].set_xlim([min(time_val), max(time_val)])\n",
        "\n",
        "plt.show()"
      ],
      "execution_count": 6,
      "outputs": [
        {
          "output_type": "display_data",
          "data": {
            "image/png": "[encoded data removed]",
            "text/plain": [
              "<Figure size 1296x288 with 2 Axes>"
            ]
          },
          "metadata": {
            "tags": [],
            "needs_background": "light"
          }
        }
      ]
    },
    {
      "cell_type": "markdown",
      "metadata": {
        "id": "xnKrTCrmdheP",
        "colab_type": "text"
      },
      "source": [
        "* amount, time 항목 값 scaling\n",
        "* 기존 mean을 제거하고 IQR(25~75%)범위로 데이터 값을 변환함\n"
      ]
    },
    {
      "cell_type": "code",
      "metadata": {
        "id": "zJUuAC2fei_2",
        "colab_type": "code",
        "colab": {}
      },
      "source": [
        "# removes the median and scales the data according to the quantile range (defaults to IQR: Interquartile Range).\n",
        "from sklearn.preprocessing import RobustScaler\n",
        "\n",
        "scaler = RobustScaler()\n",
        "\n",
        "#Fit to data, then transform it.\n",
        "data['scaled_amount'] = scaler.fit_transform(data['Amount'].values.reshape(-1,1))\n",
        "data['scaled_time'] = scaler.fit_transform(data['Time'].values.reshape(-1,1))\n",
        "\n",
        "data.drop(['Time','Amount'], axis=1, inplace=True)"
      ],
      "execution_count": 0,
      "outputs": []
    },
    {
      "cell_type": "markdown",
      "metadata": {
        "id": "Tf4YzQX0hHHa",
        "colab_type": "text"
      },
      "source": [
        "* scaling 값 출력"
      ]
    },
    {
      "cell_type": "code",
      "metadata": {
        "id": "zIfaSUguhQw6",
        "colab_type": "code",
        "outputId": "ac070fea-a380-438b-d1c1-be051476cb73",
        "colab": {
          "base_uri": "https://localhost:8080/",
          "height": 224
        }
      },
      "source": [
        "scaled_amount = data['scaled_amount']\n",
        "scaled_time = data['scaled_time']\n",
        "\n",
        "data.drop(['scaled_amount', 'scaled_time'], axis=1, inplace=True)\n",
        "data.insert(0, 'scaled_amount', scaled_amount)\n",
        "data.insert(1, 'scaled_time', scaled_time)\n",
        "\n",
        "data.head()"
      ],
      "execution_count": 8,
      "outputs": [
        {
          "output_type": "execute_result",
          "data": {
            "text/html": [
              "<div>\n",
              "<style scoped>\n",
              "    .dataframe tbody tr th:only-of-type {\n",
              "        vertical-align: middle;\n",
              "    }\n",
              "\n",
              "    .dataframe tbody tr th {\n",
              "        vertical-align: top;\n",
              "    }\n",
              "\n",
              "    .dataframe thead th {\n",
              "        text-align: right;\n",
              "    }\n",
              "</style>\n",
              "<table border=\"1\" class=\"dataframe\">\n",
              "  <thead>\n",
              "    <tr style=\"text-align: right;\">\n",
              "      <th></th>\n",
              "      <th>scaled_amount</th>\n",
              "      <th>scaled_time</th>\n",
              "      <th>V1</th>\n",
              "      <th>V2</th>\n",
              "      <th>V3</th>\n",
              "      <th>V4</th>\n",
              "      <th>V5</th>\n",
              "      <th>V6</th>\n",
              "      <th>V7</th>\n",
              "      <th>V8</th>\n",
              "      <th>V9</th>\n",
              "      <th>V10</th>\n",
              "      <th>V11</th>\n",
              "      <th>V12</th>\n",
              "      <th>V13</th>\n",
              "      <th>V14</th>\n",
              "      <th>V15</th>\n",
              "      <th>V16</th>\n",
              "      <th>V17</th>\n",
              "      <th>V18</th>\n",
              "      <th>V19</th>\n",
              "      <th>V20</th>\n",
              "      <th>V21</th>\n",
              "      <th>V22</th>\n",
              "      <th>V23</th>\n",
              "      <th>V24</th>\n",
              "      <th>V25</th>\n",
              "      <th>V26</th>\n",
              "      <th>V27</th>\n",
              "      <th>V28</th>\n",
              "      <th>Class</th>\n",
              "    </tr>\n",
              "  </thead>\n",
              "  <tbody>\n",
              "    <tr>\n",
              "      <th>0</th>\n",
              "      <td>1.783274</td>\n",
              "      <td>-0.994983</td>\n",
              "      <td>-1.359807</td>\n",
              "      <td>-0.072781</td>\n",
              "      <td>2.536347</td>\n",
              "      <td>1.378155</td>\n",
              "      <td>-0.338321</td>\n",
              "      <td>0.462388</td>\n",
              "      <td>0.239599</td>\n",
              "      <td>0.098698</td>\n",
              "      <td>0.363787</td>\n",
              "      <td>0.090794</td>\n",
              "      <td>-0.551600</td>\n",
              "      <td>-0.617801</td>\n",
              "      <td>-0.991390</td>\n",
              "      <td>-0.311169</td>\n",
              "      <td>1.468177</td>\n",
              "      <td>-0.470401</td>\n",
              "      <td>0.207971</td>\n",
              "      <td>0.025791</td>\n",
              "      <td>0.403993</td>\n",
              "      <td>0.251412</td>\n",
              "      <td>-0.018307</td>\n",
              "      <td>0.277838</td>\n",
              "      <td>-0.110474</td>\n",
              "      <td>0.066928</td>\n",
              "      <td>0.128539</td>\n",
              "      <td>-0.189115</td>\n",
              "      <td>0.133558</td>\n",
              "      <td>-0.021053</td>\n",
              "      <td>0</td>\n",
              "    </tr>\n",
              "    <tr>\n",
              "      <th>1</th>\n",
              "      <td>-0.269825</td>\n",
              "      <td>-0.994983</td>\n",
              "      <td>1.191857</td>\n",
              "      <td>0.266151</td>\n",
              "      <td>0.166480</td>\n",
              "      <td>0.448154</td>\n",
              "      <td>0.060018</td>\n",
              "      <td>-0.082361</td>\n",
              "      <td>-0.078803</td>\n",
              "      <td>0.085102</td>\n",
              "      <td>-0.255425</td>\n",
              "      <td>-0.166974</td>\n",
              "      <td>1.612727</td>\n",
              "      <td>1.065235</td>\n",
              "      <td>0.489095</td>\n",
              "      <td>-0.143772</td>\n",
              "      <td>0.635558</td>\n",
              "      <td>0.463917</td>\n",
              "      <td>-0.114805</td>\n",
              "      <td>-0.183361</td>\n",
              "      <td>-0.145783</td>\n",
              "      <td>-0.069083</td>\n",
              "      <td>-0.225775</td>\n",
              "      <td>-0.638672</td>\n",
              "      <td>0.101288</td>\n",
              "      <td>-0.339846</td>\n",
              "      <td>0.167170</td>\n",
              "      <td>0.125895</td>\n",
              "      <td>-0.008983</td>\n",
              "      <td>0.014724</td>\n",
              "      <td>0</td>\n",
              "    </tr>\n",
              "    <tr>\n",
              "      <th>2</th>\n",
              "      <td>4.983721</td>\n",
              "      <td>-0.994972</td>\n",
              "      <td>-1.358354</td>\n",
              "      <td>-1.340163</td>\n",
              "      <td>1.773209</td>\n",
              "      <td>0.379780</td>\n",
              "      <td>-0.503198</td>\n",
              "      <td>1.800499</td>\n",
              "      <td>0.791461</td>\n",
              "      <td>0.247676</td>\n",
              "      <td>-1.514654</td>\n",
              "      <td>0.207643</td>\n",
              "      <td>0.624501</td>\n",
              "      <td>0.066084</td>\n",
              "      <td>0.717293</td>\n",
              "      <td>-0.165946</td>\n",
              "      <td>2.345865</td>\n",
              "      <td>-2.890083</td>\n",
              "      <td>1.109969</td>\n",
              "      <td>-0.121359</td>\n",
              "      <td>-2.261857</td>\n",
              "      <td>0.524980</td>\n",
              "      <td>0.247998</td>\n",
              "      <td>0.771679</td>\n",
              "      <td>0.909412</td>\n",
              "      <td>-0.689281</td>\n",
              "      <td>-0.327642</td>\n",
              "      <td>-0.139097</td>\n",
              "      <td>-0.055353</td>\n",
              "      <td>-0.059752</td>\n",
              "      <td>0</td>\n",
              "    </tr>\n",
              "    <tr>\n",
              "      <th>3</th>\n",
              "      <td>1.418291</td>\n",
              "      <td>-0.994972</td>\n",
              "      <td>-0.966272</td>\n",
              "      <td>-0.185226</td>\n",
              "      <td>1.792993</td>\n",
              "      <td>-0.863291</td>\n",
              "      <td>-0.010309</td>\n",
              "      <td>1.247203</td>\n",
              "      <td>0.237609</td>\n",
              "      <td>0.377436</td>\n",
              "      <td>-1.387024</td>\n",
              "      <td>-0.054952</td>\n",
              "      <td>-0.226487</td>\n",
              "      <td>0.178228</td>\n",
              "      <td>0.507757</td>\n",
              "      <td>-0.287924</td>\n",
              "      <td>-0.631418</td>\n",
              "      <td>-1.059647</td>\n",
              "      <td>-0.684093</td>\n",
              "      <td>1.965775</td>\n",
              "      <td>-1.232622</td>\n",
              "      <td>-0.208038</td>\n",
              "      <td>-0.108300</td>\n",
              "      <td>0.005274</td>\n",
              "      <td>-0.190321</td>\n",
              "      <td>-1.175575</td>\n",
              "      <td>0.647376</td>\n",
              "      <td>-0.221929</td>\n",
              "      <td>0.062723</td>\n",
              "      <td>0.061458</td>\n",
              "      <td>0</td>\n",
              "    </tr>\n",
              "    <tr>\n",
              "      <th>4</th>\n",
              "      <td>0.670579</td>\n",
              "      <td>-0.994960</td>\n",
              "      <td>-1.158233</td>\n",
              "      <td>0.877737</td>\n",
              "      <td>1.548718</td>\n",
              "      <td>0.403034</td>\n",
              "      <td>-0.407193</td>\n",
              "      <td>0.095921</td>\n",
              "      <td>0.592941</td>\n",
              "      <td>-0.270533</td>\n",
              "      <td>0.817739</td>\n",
              "      <td>0.753074</td>\n",
              "      <td>-0.822843</td>\n",
              "      <td>0.538196</td>\n",
              "      <td>1.345852</td>\n",
              "      <td>-1.119670</td>\n",
              "      <td>0.175121</td>\n",
              "      <td>-0.451449</td>\n",
              "      <td>-0.237033</td>\n",
              "      <td>-0.038195</td>\n",
              "      <td>0.803487</td>\n",
              "      <td>0.408542</td>\n",
              "      <td>-0.009431</td>\n",
              "      <td>0.798278</td>\n",
              "      <td>-0.137458</td>\n",
              "      <td>0.141267</td>\n",
              "      <td>-0.206010</td>\n",
              "      <td>0.502292</td>\n",
              "      <td>0.219422</td>\n",
              "      <td>0.215153</td>\n",
              "      <td>0</td>\n",
              "    </tr>\n",
              "  </tbody>\n",
              "</table>\n",
              "</div>"
            ],
            "text/plain": [
              "   scaled_amount  scaled_time        V1  ...       V27       V28  Class\n",
              "0       1.783274    -0.994983 -1.359807  ...  0.133558 -0.021053      0\n",
              "1      -0.269825    -0.994983  1.191857  ... -0.008983  0.014724      0\n",
              "2       4.983721    -0.994972 -1.358354  ... -0.055353 -0.059752      0\n",
              "3       1.418291    -0.994972 -0.966272  ...  0.062723  0.061458      0\n",
              "4       0.670579    -0.994960 -1.158233  ...  0.219422  0.215153      0\n",
              "\n",
              "[5 rows x 31 columns]"
            ]
          },
          "metadata": {
            "tags": []
          },
          "execution_count": 8
        }
      ]
    },
    {
      "cell_type": "markdown",
      "metadata": {
        "id": "8aMsOdDTm0X0",
        "colab_type": "text"
      },
      "source": [
        "## Sub-sampling\n",
        "모델학습의 정확도를 위해 Fraud, non-fraud 데이터 비율을 5:5로 설정함\n",
        "* Fraud 데이터 수가 적어 학습 후 모델의 성능 판별이 어려워 짐. <br>  (accuracy는 높아지나 Fraud 클래스의 recall은 급격하게 낮아짐)\n",
        "* 클래스별 데이터 수의 비대칭 문제를 해결하기 위해 다수 클래스 데이터에서 일부만 사용하는 under sampling이나 소수 클래스 데이터를 증가시키는 over sampling을 적용함.\n",
        "* 먼저 Random under sampling 적용을 위해 원본 데이터에서 테스트용 데이터 셋을  분할함."
      ]
    },
    {
      "cell_type": "code",
      "metadata": {
        "id": "oSAgfFiInXqI",
        "colab_type": "code",
        "outputId": "d295bdbc-0f0a-4427-e5d5-1aa72eb71586",
        "colab": {
          "base_uri": "https://localhost:8080/",
          "height": 136
        }
      },
      "source": [
        "from sklearn.model_selection import train_test_split\n",
        "from sklearn.model_selection import StratifiedShuffleSplit\n",
        "\n",
        "print('No Frauds', round(data['Class'].value_counts()[0]/len(data) * 100,2), '% of the dataset')\n",
        "print('Frauds', round(data['Class'].value_counts()[1]/len(data) * 100,2), '% of the dataset')\n",
        "\n",
        "#label 분리 저장\n",
        "x = data.drop('Class', axis=1)\n",
        "y = data['Class']\n",
        "\n",
        "#Stratified K-Folds cross-validator Provides train/test indices to split data in train/test sets.\n",
        "#Generate test sets such that all contain the same distribution of classes\n",
        "s_data = StratifiedKFold(n_splits=5, random_state=None, shuffle=False)\n",
        "\n",
        "for train_index, test_index in s_data.split(x, y):\n",
        "    print(\"Train:\", train_index, \"Test:\", test_index)\n",
        "    original_Xtrain, original_Xtest = x.iloc[train_index], x.iloc[test_index]\n",
        "    original_ytrain, original_ytest = y.iloc[train_index], y.iloc[test_index]\n",
        "\n",
        "# iloc Purely integer-location based indexing for selection by position.\n",
        "\n",
        "#list value save\n",
        "original_Xtrain = original_Xtrain.values\n",
        "original_Xtest = original_Xtest.values\n",
        "original_ytrain = original_ytrain.values\n",
        "original_ytest = original_ytest.values\n",
        "\n"
      ],
      "execution_count": 9,
      "outputs": [
        {
          "output_type": "stream",
          "text": [
            "No Frauds 99.83 % of the dataset\n",
            "Frauds 0.17 % of the dataset\n",
            "Train: [ 30473  30496  31002 ... 284804 284805 284806] Test: [    0     1     2 ... 57017 57018 57019]\n",
            "Train: [     0      1      2 ... 284804 284805 284806] Test: [ 30473  30496  31002 ... 113964 113965 113966]\n",
            "Train: [     0      1      2 ... 284804 284805 284806] Test: [ 81609  82400  83053 ... 170946 170947 170948]\n",
            "Train: [     0      1      2 ... 284804 284805 284806] Test: [150654 150660 150661 ... 227866 227867 227868]\n",
            "Train: [     0      1      2 ... 227866 227867 227868] Test: [212516 212644 213092 ... 284804 284805 284806]\n"
          ],
          "name": "stdout"
        }
      ]
    },
    {
      "cell_type": "markdown",
      "metadata": {
        "id": "kx8RoYQ6qVef",
        "colab_type": "text"
      },
      "source": [
        "## Random Under-Sampling  \n",
        "Fraud 데이터 수 492개의 건수 만큼 non-Fraud 데이수를 맞춰 5:5 비율로 데이터를 준비하고  무작위로 데이터를 섞어 학습 수행함.\n",
        "\n",
        "\n"
      ]
    },
    {
      "cell_type": "code",
      "metadata": {
        "id": "-lEsKpdgqUoB",
        "colab_type": "code",
        "outputId": "ae894a33-04ad-4b19-ee54-6bdd118b86c1",
        "colab": {
          "base_uri": "https://localhost:8080/",
          "height": 224
        }
      },
      "source": [
        "#Return a random sample of items from an axis of object, Fraction of axis items to return\n",
        "data = data.sample(frac=1)\n",
        "\n",
        "fraud_df = data.loc[data['Class'] == 1]\n",
        "non_fraud_df = data.loc[data['Class'] == 0][:492]\n",
        "\n",
        "#Concatenate pandas objects along a particular axis with optional set logic along the other axes.\n",
        "normal_distributed_df = pd.concat([fraud_df, non_fraud_df])\n",
        "\n",
        "#random_state Seed for the random number generator \n",
        "new_df = normal_distributed_df.sample(frac=1, random_state=42)\n",
        "\n",
        "new_df.head()"
      ],
      "execution_count": 10,
      "outputs": [
        {
          "output_type": "execute_result",
          "data": {
            "text/html": [
              "<div>\n",
              "<style scoped>\n",
              "    .dataframe tbody tr th:only-of-type {\n",
              "        vertical-align: middle;\n",
              "    }\n",
              "\n",
              "    .dataframe tbody tr th {\n",
              "        vertical-align: top;\n",
              "    }\n",
              "\n",
              "    .dataframe thead th {\n",
              "        text-align: right;\n",
              "    }\n",
              "</style>\n",
              "<table border=\"1\" class=\"dataframe\">\n",
              "  <thead>\n",
              "    <tr style=\"text-align: right;\">\n",
              "      <th></th>\n",
              "      <th>scaled_amount</th>\n",
              "      <th>scaled_time</th>\n",
              "      <th>V1</th>\n",
              "      <th>V2</th>\n",
              "      <th>V3</th>\n",
              "      <th>V4</th>\n",
              "      <th>V5</th>\n",
              "      <th>V6</th>\n",
              "      <th>V7</th>\n",
              "      <th>V8</th>\n",
              "      <th>V9</th>\n",
              "      <th>V10</th>\n",
              "      <th>V11</th>\n",
              "      <th>V12</th>\n",
              "      <th>V13</th>\n",
              "      <th>V14</th>\n",
              "      <th>V15</th>\n",
              "      <th>V16</th>\n",
              "      <th>V17</th>\n",
              "      <th>V18</th>\n",
              "      <th>V19</th>\n",
              "      <th>V20</th>\n",
              "      <th>V21</th>\n",
              "      <th>V22</th>\n",
              "      <th>V23</th>\n",
              "      <th>V24</th>\n",
              "      <th>V25</th>\n",
              "      <th>V26</th>\n",
              "      <th>V27</th>\n",
              "      <th>V28</th>\n",
              "      <th>Class</th>\n",
              "    </tr>\n",
              "  </thead>\n",
              "  <tbody>\n",
              "    <tr>\n",
              "      <th>192864</th>\n",
              "      <td>-0.293440</td>\n",
              "      <td>0.530998</td>\n",
              "      <td>2.124117</td>\n",
              "      <td>-0.040505</td>\n",
              "      <td>-1.564916</td>\n",
              "      <td>0.194173</td>\n",
              "      <td>0.278296</td>\n",
              "      <td>-0.906527</td>\n",
              "      <td>0.185998</td>\n",
              "      <td>-0.337506</td>\n",
              "      <td>0.697033</td>\n",
              "      <td>0.014762</td>\n",
              "      <td>-1.383657</td>\n",
              "      <td>0.016255</td>\n",
              "      <td>0.148151</td>\n",
              "      <td>0.424478</td>\n",
              "      <td>0.836479</td>\n",
              "      <td>0.042564</td>\n",
              "      <td>-0.790727</td>\n",
              "      <td>0.230385</td>\n",
              "      <td>0.028946</td>\n",
              "      <td>-0.224929</td>\n",
              "      <td>0.209021</td>\n",
              "      <td>0.776377</td>\n",
              "      <td>-0.091857</td>\n",
              "      <td>-0.679234</td>\n",
              "      <td>0.352308</td>\n",
              "      <td>-0.056966</td>\n",
              "      <td>-0.017463</td>\n",
              "      <td>-0.065345</td>\n",
              "      <td>0</td>\n",
              "    </tr>\n",
              "    <tr>\n",
              "      <th>230476</th>\n",
              "      <td>1.017537</td>\n",
              "      <td>0.724304</td>\n",
              "      <td>-0.099724</td>\n",
              "      <td>2.795414</td>\n",
              "      <td>-6.423856</td>\n",
              "      <td>3.247513</td>\n",
              "      <td>-1.632290</td>\n",
              "      <td>-2.766665</td>\n",
              "      <td>-2.312223</td>\n",
              "      <td>0.961014</td>\n",
              "      <td>-1.896001</td>\n",
              "      <td>-4.919348</td>\n",
              "      <td>3.053654</td>\n",
              "      <td>-5.297811</td>\n",
              "      <td>-1.466030</td>\n",
              "      <td>-7.035880</td>\n",
              "      <td>1.997132</td>\n",
              "      <td>-3.836189</td>\n",
              "      <td>-2.515183</td>\n",
              "      <td>-0.864579</td>\n",
              "      <td>2.328927</td>\n",
              "      <td>0.340898</td>\n",
              "      <td>0.647714</td>\n",
              "      <td>0.126576</td>\n",
              "      <td>0.203953</td>\n",
              "      <td>0.008495</td>\n",
              "      <td>-0.174501</td>\n",
              "      <td>0.575295</td>\n",
              "      <td>0.152876</td>\n",
              "      <td>-0.098173</td>\n",
              "      <td>1</td>\n",
              "    </tr>\n",
              "    <tr>\n",
              "      <th>267474</th>\n",
              "      <td>-0.013973</td>\n",
              "      <td>0.917492</td>\n",
              "      <td>1.996774</td>\n",
              "      <td>0.084541</td>\n",
              "      <td>-1.798042</td>\n",
              "      <td>1.083598</td>\n",
              "      <td>0.500550</td>\n",
              "      <td>-0.868727</td>\n",
              "      <td>0.474317</td>\n",
              "      <td>-0.185602</td>\n",
              "      <td>-0.005119</td>\n",
              "      <td>0.568895</td>\n",
              "      <td>0.371964</td>\n",
              "      <td>-0.281136</td>\n",
              "      <td>-2.142548</td>\n",
              "      <td>1.339382</td>\n",
              "      <td>-0.136587</td>\n",
              "      <td>0.036404</td>\n",
              "      <td>-0.679474</td>\n",
              "      <td>0.326176</td>\n",
              "      <td>-0.031387</td>\n",
              "      <td>-0.363882</td>\n",
              "      <td>0.061547</td>\n",
              "      <td>0.112978</td>\n",
              "      <td>0.029125</td>\n",
              "      <td>-0.468705</td>\n",
              "      <td>0.253090</td>\n",
              "      <td>-0.583070</td>\n",
              "      <td>-0.040635</td>\n",
              "      <td>-0.073617</td>\n",
              "      <td>0</td>\n",
              "    </tr>\n",
              "    <tr>\n",
              "      <th>27738</th>\n",
              "      <td>1.443443</td>\n",
              "      <td>-0.587507</td>\n",
              "      <td>-2.439237</td>\n",
              "      <td>2.591458</td>\n",
              "      <td>-2.840126</td>\n",
              "      <td>1.286244</td>\n",
              "      <td>-1.777016</td>\n",
              "      <td>-1.436139</td>\n",
              "      <td>-2.206056</td>\n",
              "      <td>-2.282725</td>\n",
              "      <td>-0.292885</td>\n",
              "      <td>-3.717450</td>\n",
              "      <td>3.907399</td>\n",
              "      <td>-7.220004</td>\n",
              "      <td>-1.211739</td>\n",
              "      <td>-9.657627</td>\n",
              "      <td>0.927518</td>\n",
              "      <td>-4.738662</td>\n",
              "      <td>-9.276636</td>\n",
              "      <td>-3.081961</td>\n",
              "      <td>0.177746</td>\n",
              "      <td>0.513530</td>\n",
              "      <td>1.774460</td>\n",
              "      <td>-0.771390</td>\n",
              "      <td>0.065727</td>\n",
              "      <td>0.103916</td>\n",
              "      <td>-0.057578</td>\n",
              "      <td>0.242652</td>\n",
              "      <td>-0.268649</td>\n",
              "      <td>-0.743713</td>\n",
              "      <td>1</td>\n",
              "    </tr>\n",
              "    <tr>\n",
              "      <th>43681</th>\n",
              "      <td>0.446447</td>\n",
              "      <td>-0.506174</td>\n",
              "      <td>-18.247513</td>\n",
              "      <td>8.713250</td>\n",
              "      <td>-17.880127</td>\n",
              "      <td>9.249459</td>\n",
              "      <td>-14.541213</td>\n",
              "      <td>-1.911564</td>\n",
              "      <td>-18.014660</td>\n",
              "      <td>5.522162</td>\n",
              "      <td>-9.283925</td>\n",
              "      <td>-14.557159</td>\n",
              "      <td>4.392436</td>\n",
              "      <td>-10.380073</td>\n",
              "      <td>1.611821</td>\n",
              "      <td>-6.917640</td>\n",
              "      <td>0.158841</td>\n",
              "      <td>-10.328242</td>\n",
              "      <td>-20.254556</td>\n",
              "      <td>-8.534523</td>\n",
              "      <td>3.256534</td>\n",
              "      <td>-0.526368</td>\n",
              "      <td>0.598843</td>\n",
              "      <td>0.615319</td>\n",
              "      <td>-0.486499</td>\n",
              "      <td>0.739268</td>\n",
              "      <td>-0.236845</td>\n",
              "      <td>-0.046082</td>\n",
              "      <td>-3.011473</td>\n",
              "      <td>-1.022147</td>\n",
              "      <td>1</td>\n",
              "    </tr>\n",
              "  </tbody>\n",
              "</table>\n",
              "</div>"
            ],
            "text/plain": [
              "        scaled_amount  scaled_time         V1  ...       V27       V28  Class\n",
              "192864      -0.293440     0.530998   2.124117  ... -0.017463 -0.065345      0\n",
              "230476       1.017537     0.724304  -0.099724  ...  0.152876 -0.098173      1\n",
              "267474      -0.013973     0.917492   1.996774  ... -0.040635 -0.073617      0\n",
              "27738        1.443443    -0.587507  -2.439237  ... -0.268649 -0.743713      1\n",
              "43681        0.446447    -0.506174 -18.247513  ... -3.011473 -1.022147      1\n",
              "\n",
              "[5 rows x 31 columns]"
            ]
          },
          "metadata": {
            "tags": []
          },
          "execution_count": 10
        }
      ]
    },
    {
      "cell_type": "markdown",
      "metadata": {
        "id": "8nrUUnW23fB9",
        "colab_type": "text"
      },
      "source": [
        "* 균일하게 샘플링 되었는지 class 비율 확인"
      ]
    },
    {
      "cell_type": "code",
      "metadata": {
        "id": "IlXFxsOJ3lKB",
        "colab_type": "code",
        "outputId": "248dcf55-77a7-4a38-abc3-144a2bd6c44d",
        "colab": {
          "base_uri": "https://localhost:8080/",
          "height": 364
        }
      },
      "source": [
        "print('Distribution of the Classes in the subsample dataset')\n",
        "print(new_df['Class'].value_counts()/len(new_df))\n",
        "\n",
        "sns.countplot('Class', data=new_df, palette=colors)\n",
        "plt.title('Equally Distributed Classes', fontsize=14)\n",
        "plt.show()"
      ],
      "execution_count": 11,
      "outputs": [
        {
          "output_type": "stream",
          "text": [
            "Distribution of the Classes in the subsample dataset\n",
            "1    0.5\n",
            "0    0.5\n",
            "Name: Class, dtype: float64\n"
          ],
          "name": "stdout"
        },
        {
          "output_type": "display_data",
          "data": {
            "image/png": "[encoded data removed]",
            "text/plain": [
              "<Figure size 432x288 with 1 Axes>"
            ]
          },
          "metadata": {
            "tags": [],
            "needs_background": "light"
          }
        }
      ]
    },
    {
      "cell_type": "markdown",
      "metadata": {
        "id": "VZ6efRyk6Jbf",
        "colab_type": "text"
      },
      "source": [
        "## Correlation analysis\n",
        "- 두 변수간에 어떤 선형적 또는 비선형적 관계를 갖고 있는 지를 분석하는 방법\n",
        "- 변수는 서로 독립적인 관계이거나 상관된 관계일 수 있으며 이때 두 변수간의 관계의 강도를 상관관계(Correlation, Correlation coefficient)라 한다. \n",
        "- 상관분석에서는 상관관계의 정도를 나타내는 단위로 모상관계수로 ρ를 사용하며 표본 상관 계수로 r 을 사용\n",
        "- 상관관계의 정도를 파악하는 상관 계수(相關係數, Correlation coefficient)는 두 변수간의 연관된 정도를 나타낼 뿐 인과관계를 설명하는 것은 아님. \n",
        "- 두 변수간에 원인과 결과의 인과관계가 있는지에 대한 것은 회귀분석을 통해 인과관계의 방향, 정도와 수학적 모델을 확인해 볼 수 있음  \n",
        "출처) wikipedia\n",
        "\n",
        "* 추출된 데이터의 각 항목이 분류된 클래스와 어떤 관계인지 분석함.\n"
      ]
    },
    {
      "cell_type": "code",
      "metadata": {
        "id": "FlbnGv8P6hj4",
        "colab_type": "code",
        "outputId": "9f049399-7b1c-4f52-ff20-bae7fe7223ba",
        "colab": {
          "base_uri": "https://localhost:8080/",
          "height": 991
        }
      },
      "source": [
        "f, (ax1, ax2) = plt.subplots(2, 1, figsize=(24,20))\n",
        "\n",
        "# Compute pairwise correlation of columns, excluding NA/null values\n",
        "corr = data.corr()\n",
        "sns.heatmap(corr, cmap='coolwarm_r', annot_kws={'size':20}, ax=ax1)\n",
        "ax1.set_title(\"Imbalanced Correlation Matrix \\n \", fontsize=14)\n",
        "\n",
        "\n",
        "sub_sample_corr = new_df.corr()\n",
        "sns.heatmap(sub_sample_corr, cmap='coolwarm_r', annot_kws={'size':20}, ax=ax2)\n",
        "ax2.set_title('SubSample Correlation Matrix \\n (use for reference)', fontsize=14)\n",
        "plt.show()"
      ],
      "execution_count": 12,
      "outputs": [
        {
          "output_type": "display_data",
          "data": {
            "image/png": "[encoded data removed]",
            "text/plain": [
              "<Figure size 1728x1440 with 4 Axes>"
            ]
          },
          "metadata": {
            "tags": [],
            "needs_background": "light"
          }
        }
      ]
    },
    {
      "cell_type": "markdown",
      "metadata": {
        "id": "DsVCvvoF6_r-",
        "colab_type": "text"
      },
      "source": [
        "* V17, V14, V12 및 V10은 음의 상관 관계. 값이 낮을수록 사기 거래가 될 가능성이 높아짐\n"
      ]
    },
    {
      "cell_type": "code",
      "metadata": {
        "id": "jmxoVB1NJJz_",
        "colab_type": "code",
        "outputId": "f51dbdba-0cae-4836-9ca0-428005d5d43d",
        "colab": {
          "base_uri": "https://localhost:8080/",
          "height": 263
        }
      },
      "source": [
        "f, axes = plt.subplots(ncols=4, figsize=(20,4))\n",
        "\n",
        "# Negative Correlations with our Class (The lower our feature value the more likely it will be a fraud transaction)\n",
        "sns.boxplot(x=\"Class\", y=\"V17\", data=new_df, palette=colors, ax=axes[0])\n",
        "axes[0].set_title('V17 vs Class Negative Correlation')\n",
        "\n",
        "sns.boxplot(x=\"Class\", y=\"V14\", data=new_df, palette=colors, ax=axes[1])\n",
        "axes[1].set_title('V14 vs Class Negative Correlation')\n",
        "\n",
        "\n",
        "sns.boxplot(x=\"Class\", y=\"V12\", data=new_df, palette=colors, ax=axes[2])\n",
        "axes[2].set_title('V12 vs Class Negative Correlation')\n",
        "\n",
        "\n",
        "sns.boxplot(x=\"Class\", y=\"V10\", data=new_df, palette=colors, ax=axes[3])\n",
        "axes[3].set_title('V10 vs Class Negative Correlation')\n",
        "\n",
        "plt.show()"
      ],
      "execution_count": 13,
      "outputs": [
        {
          "output_type": "display_data",
          "data": {
            "image/png": "[encoded data removed]",
            "text/plain": [
              "<Figure size 1440x288 with 4 Axes>"
            ]
          },
          "metadata": {
            "tags": [],
            "needs_background": "light"
          }
        }
      ]
    },
    {
      "cell_type": "markdown",
      "metadata": {
        "id": "KXYgLgN-JdY8",
        "colab_type": "text"
      },
      "source": [
        "* V2, V4, V11 및 V19는 양의 상관 관계. 값이 클수록 사기 거래가 될 가능성이 높아짐"
      ]
    },
    {
      "cell_type": "code",
      "metadata": {
        "id": "sbqiTvc7JUHg",
        "colab_type": "code",
        "outputId": "169568a0-a1c5-47ed-c3b9-c5c19fe9c941",
        "colab": {
          "base_uri": "https://localhost:8080/",
          "height": 264
        }
      },
      "source": [
        "f, axes = plt.subplots(ncols=4, figsize=(20,4))\n",
        "\n",
        "# Positive correlations (The higher the feature the probability increases that it will be a fraud transaction)\n",
        "sns.boxplot(x=\"Class\", y=\"V11\", data=new_df, palette=colors, ax=axes[0])\n",
        "axes[0].set_title('V11 vs Class Positive Correlation')\n",
        "\n",
        "sns.boxplot(x=\"Class\", y=\"V4\", data=new_df, palette=colors, ax=axes[1])\n",
        "axes[1].set_title('V4 vs Class Positive Correlation')\n",
        "\n",
        "\n",
        "sns.boxplot(x=\"Class\", y=\"V2\", data=new_df, palette=colors, ax=axes[2])\n",
        "axes[2].set_title('V2 vs Class Positive Correlation')\n",
        "\n",
        "\n",
        "sns.boxplot(x=\"Class\", y=\"V19\", data=new_df, palette=colors, ax=axes[3])\n",
        "axes[3].set_title('V19 vs Class Positive Correlation')\n",
        "\n",
        "plt.show()"
      ],
      "execution_count": 14,
      "outputs": [
        {
          "output_type": "display_data",
          "data": {
            "image/png": "[encoded data removed]",
            "text/plain": [
              "<Figure size 1440x288 with 4 Axes>"
            ]
          },
          "metadata": {
            "tags": [],
            "needs_background": "light"
          }
        }
      ]
    },
    {
      "cell_type": "markdown",
      "metadata": {
        "id": "zMdOXujGPAhz",
        "colab_type": "text"
      },
      "source": [
        "## Remove outliers\n",
        "* V17, V14, V12 및 V10 컬럼 데이터에 대해 iqr 기준으로 25%미만 75%이상 값을 제거함."
      ]
    },
    {
      "cell_type": "code",
      "metadata": {
        "id": "jOSvB8TzPz-m",
        "colab_type": "code",
        "outputId": "0d3d143d-6915-4202-f4de-d69d162eab17",
        "colab": {
          "base_uri": "https://localhost:8080/",
          "height": 462
        }
      },
      "source": [
        "# V14 Removing Outliers \n",
        "v14_fraud = new_df['V14'].loc[new_df['Class'] == 1].values\n",
        "q25, q75 = np.percentile(v14_fraud, 25), np.percentile(v14_fraud, 75)\n",
        "print('Quartile 25: {} | Quartile 75: {}'.format(q25, q75))\n",
        "v14_iqr = q75 - q25\n",
        "print('iqr: {}'.format(v14_iqr))\n",
        "\n",
        "v14_cut_off = v14_iqr * 1.5\n",
        "v14_lower, v14_upper = q25 - v14_cut_off, q75 + v14_cut_off\n",
        "print('Cut Off: {}'.format(v14_cut_off))\n",
        "print('V14 Lower: {}'.format(v14_lower))\n",
        "print('V14 Upper: {}'.format(v14_upper))\n",
        "\n",
        "outliers = [x for x in v14_fraud if x < v14_lower or x > v14_upper]\n",
        "print('Feature V14 Outliers for Fraud Cases: {}'.format(len(outliers)))\n",
        "print('V10 outliers:{}'.format(outliers))\n",
        "\n",
        "new_df = new_df.drop(new_df[(new_df['V14'] > v14_upper) | (new_df['V14'] < v14_lower)].index)\n",
        "print('----' * 44)\n",
        "\n",
        "# V12 removing outliers\n",
        "v12_fraud = new_df['V12'].loc[new_df['Class'] == 1].values\n",
        "q25, q75 = np.percentile(v12_fraud, 25), np.percentile(v12_fraud, 75)\n",
        "v12_iqr = q75 - q25\n",
        "\n",
        "v12_cut_off = v12_iqr * 1.5\n",
        "v12_lower, v12_upper = q25 - v12_cut_off, q75 + v12_cut_off\n",
        "print('V12 Lower: {}'.format(v12_lower))\n",
        "print('V12 Upper: {}'.format(v12_upper))\n",
        "outliers = [x for x in v12_fraud if x < v12_lower or x > v12_upper]\n",
        "print('V12 outliers: {}'.format(outliers))\n",
        "print('Feature V12 Outliers for Fraud Cases: {}'.format(len(outliers)))\n",
        "new_df = new_df.drop(new_df[(new_df['V12'] > v12_upper) | (new_df['V12'] < v12_lower)].index)\n",
        "print('Number of Instances after outliers removal: {}'.format(len(new_df)))\n",
        "print('----' * 44)\n",
        "\n",
        "\n",
        "# V10 removing outliers\n",
        "v10_fraud = new_df['V10'].loc[new_df['Class'] == 1].values\n",
        "q25, q75 = np.percentile(v10_fraud, 25), np.percentile(v10_fraud, 75)\n",
        "v10_iqr = q75 - q25\n",
        "\n",
        "v10_cut_off = v10_iqr * 1.5\n",
        "v10_lower, v10_upper = q25 - v10_cut_off, q75 + v10_cut_off\n",
        "print('V10 Lower: {}'.format(v10_lower))\n",
        "print('V10 Upper: {}'.format(v10_upper))\n",
        "outliers = [x for x in v10_fraud if x < v10_lower or x > v10_upper]\n",
        "print('V10 outliers: {}'.format(outliers))\n",
        "print('Feature V10 Outliers for Fraud Cases: {}'.format(len(outliers)))\n",
        "new_df = new_df.drop(new_df[(new_df['V10'] > v10_upper) | (new_df['V10'] < v10_lower)].index)\n",
        "print('Number of Instances after outliers removal: {}'.format(len(new_df)))\n",
        "print('----' * 44)\n",
        "\n",
        "# V17 removing outliers\n",
        "v17_fraud = new_df['V17'].loc[new_df['Class'] == 1].values\n",
        "q25, q75 = np.percentile(v17_fraud, 25), np.percentile(v17_fraud, 75)\n",
        "v17_iqr = q75 - q25\n",
        "\n",
        "v17_cut_off = v17_iqr * 1.5\n",
        "v17_lower, v17_upper = q25 - v17_cut_off, q75 + v17_cut_off\n",
        "print('V17 Lower: {}'.format(v17_lower))\n",
        "print('V17 Upper: {}'.format(v17_upper))\n",
        "outliers = [x for x in v17_fraud if x < v17_lower or x > v17_upper]\n",
        "print('V17 outliers: {}'.format(outliers))\n",
        "print('Feature V17 Outliers for Fraud Cases: {}'.format(len(outliers)))\n",
        "new_df = new_df.drop(new_df[(new_df['V17'] > v17_upper) | (new_df['V17'] < v17_lower)].index)\n",
        "print('Number of Instances after outliers removal: {}'.format(len(new_df)))"
      ],
      "execution_count": 15,
      "outputs": [
        {
          "output_type": "stream",
          "text": [
            "Quartile 25: -9.692722964972385 | Quartile 75: -4.282820849486866\n",
            "iqr: 5.409902115485519\n",
            "Cut Off: 8.114853173228278\n",
            "V14 Lower: -17.807576138200663\n",
            "V14 Upper: 3.8320323237414122\n",
            "Feature V14 Outliers for Fraud Cases: 4\n",
            "V10 outliers:[-18.8220867423816, -19.2143254902614, -18.4937733551053, -18.049997689859396]\n",
            "--------------------------------------------------------------------------------------------------------------------------------------------------------------------------------\n",
            "V12 Lower: -17.3430371579634\n",
            "V12 Upper: 5.776973384895937\n",
            "V12 outliers: [-18.683714633344298, -18.4311310279993, -18.047596570821604, -18.553697009645802]\n",
            "Feature V12 Outliers for Fraud Cases: 4\n",
            "Number of Instances after outliers removal: 975\n",
            "--------------------------------------------------------------------------------------------------------------------------------------------------------------------------------\n",
            "V10 Lower: -14.89885463232024\n",
            "V10 Upper: 4.920334958342141\n",
            "V10 outliers: [-16.7460441053944, -16.6011969664137, -15.2318333653018, -15.346098846877501, -24.403184969972802, -22.1870885620007, -20.949191554361104, -15.563791338730098, -18.2711681738888, -16.2556117491401, -15.2399619587112, -23.2282548357516, -17.141513641289198, -15.563791338730098, -22.1870885620007, -14.9246547735487, -15.2399619587112, -19.836148851696, -24.5882624372475, -15.124162814494698, -16.3035376590131, -22.1870885620007, -18.9132433348732, -14.9246547735487, -16.6496281595399, -22.1870885620007, -15.1237521803455]\n",
            "Feature V10 Outliers for Fraud Cases: 27\n",
            "Number of Instances after outliers removal: 946\n",
            "--------------------------------------------------------------------------------------------------------------------------------------------------------------------------------\n",
            "V17 Lower: -23.963221870516776\n",
            "V17 Upper: 13.070314875589029\n",
            "V17 outliers: [-25.162799369324798, -24.019098547590197]\n",
            "Feature V17 Outliers for Fraud Cases: 2\n",
            "Number of Instances after outliers removal: 944\n"
          ],
          "name": "stdout"
        }
      ]
    },
    {
      "cell_type": "code",
      "metadata": {
        "id": "A04F2UoLRVzB",
        "colab_type": "code",
        "outputId": "fd25d4d5-8258-4788-95e6-86adc2b3cdcc",
        "colab": {
          "base_uri": "https://localhost:8080/",
          "height": 375
        }
      },
      "source": [
        "f,(ax1, ax2, ax3, ax4) = plt.subplots(1, 4, figsize=(20,6))\n",
        "\n",
        "colors = ['#B3F9C5', '#f9c5b3']\n",
        "# Boxplots with outliers removed\n",
        "# Feature V14\n",
        "sns.boxplot(x=\"Class\", y=\"V14\", data=new_df,ax=ax1, palette=colors)\n",
        "ax1.set_title(\"V14 Feature \\n Reduction of outliers\", fontsize=14)\n",
        "ax1.annotate('Fewer extreme \\n outliers', xy=(0.98, -17.5), xytext=(0, -12),\n",
        "            arrowprops=dict(facecolor='black'),\n",
        "            fontsize=14)\n",
        "\n",
        "# Feature 12\n",
        "sns.boxplot(x=\"Class\", y=\"V12\", data=new_df, ax=ax2, palette=colors)\n",
        "ax2.set_title(\"V12 Feature \\n Reduction of outliers\", fontsize=14)\n",
        "ax2.annotate('Fewer extreme \\n outliers', xy=(0.98, -17.3), xytext=(0, -12),\n",
        "            arrowprops=dict(facecolor='black'),\n",
        "            fontsize=14)\n",
        "\n",
        "# Feature V10\n",
        "sns.boxplot(x=\"Class\", y=\"V10\", data=new_df, ax=ax3, palette=colors)\n",
        "ax3.set_title(\"V10 Feature \\n Reduction of outliers\", fontsize=14)\n",
        "ax3.annotate('Fewer extreme \\n outliers', xy=(0.95, -16.5), xytext=(0, -12),\n",
        "            arrowprops=dict(facecolor='black'),\n",
        "            fontsize=14)\n",
        "\n",
        "# Feature V17\n",
        "sns.boxplot(x=\"Class\", y=\"V17\", data=new_df, ax=ax4, palette=colors)\n",
        "ax4.set_title(\"V17 Feature \\n Reduction of outliers\", fontsize=14)\n",
        "#ax4.annotate('Fewer extreme \\n outliers', xy=(0.95, -16.5), xytext=(0, -12),\n",
        "#            arrowprops=dict(facecolor='black'),\n",
        "#            fontsize=14)\n",
        "\n",
        "plt.show()"
      ],
      "execution_count": 16,
      "outputs": [
        {
          "output_type": "display_data",
          "data": {
            "image/png": "[encoded data removed]",
            "text/plain": [
              "<Figure size 1440x432 with 4 Axes>"
            ]
          },
          "metadata": {
            "tags": [],
            "needs_background": "light"
          }
        }
      ]
    },
    {
      "cell_type": "markdown",
      "metadata": {
        "id": "4roBXEIH9x8q",
        "colab_type": "text"
      },
      "source": [
        "## Undersampling Training\n",
        "* LogisticRegression, KNearest, SVM, DecsionTree, Randomforest 알고리즘 적용"
      ]
    },
    {
      "cell_type": "code",
      "metadata": {
        "id": "y-StAe1BWB84",
        "colab_type": "code",
        "colab": {}
      },
      "source": [
        "# Cross Validation 적용전 Undersampling \n",
        "X = new_df.drop('Class', axis=1)\n",
        "y = new_df['Class']\n",
        "\n",
        "from sklearn.model_selection import train_test_split\n",
        "\n",
        "X_train, X_test, y_train, y_test = train_test_split(X, y, test_size=0.2, random_state=42)\n",
        "\n",
        "X_train = X_train.values\n",
        "X_test = X_test.values\n",
        "y_train = y_train.values\n",
        "y_test = y_test.values"
      ],
      "execution_count": 0,
      "outputs": []
    },
    {
      "cell_type": "code",
      "metadata": {
        "id": "4MHjQyYc-F6s",
        "colab_type": "code",
        "outputId": "eaed8c9a-803b-45ab-dfa9-5e80b3e44367",
        "colab": {
          "base_uri": "https://localhost:8080/",
          "height": 1000
        }
      },
      "source": [
        "from keras import models\n",
        "from keras import layers\n",
        "\n",
        "model = models.Sequential()\n",
        "model.add(layers.Dense(16, activation='relu'))\n",
        "model.add(layers.Dense(16, activation='relu'))\n",
        "model.add(layers.Dense(1, activation='sigmoid'))\n",
        "model.compile(optimizer='rmsprop',\n",
        "              loss='binary_crossentropy',\n",
        "              metrics=['acc'])\n",
        "\n",
        "from tensorflow.keras import optimizers\n",
        "from tensorflow.keras import losses\n",
        "from tensorflow.keras import metrics\n",
        "\n",
        "history = model.fit(X_train,\n",
        "                    y_train,\n",
        "                    epochs=50,\n",
        "                    batch_size=128,\n",
        "                    validation_split=0.2)\n",
        "history_dict = history.history\n",
        "\n",
        "history_dict.keys()\n",
        "import matplotlib.pyplot as plt\n",
        "\n",
        "history_dict = history.history\n",
        "loss_values = history_dict['loss']\n",
        "val_loss_values = history_dict['val_loss']\n",
        "\n",
        "epochs = range(1, len(loss_values) + 1)\n",
        "\n",
        "plt.plot(epochs, loss_values, 'bo', label='Training loss')\n",
        "plt.plot(epochs, val_loss_values, 'b', label='Validation loss')\n",
        "plt.title('Training and validation loss')\n",
        "plt.xlabel('Epochs')\n",
        "plt.ylabel('Loss')\n",
        "plt.legend()\n",
        "\n",
        "plt.show()\n",
        "\n",
        "acc_values = history_dict['acc']\n",
        "val_acc_values = history_dict['val_acc']\n",
        "\n",
        "plt.plot(epochs, acc_values, 'bo', label='Training acc') \n",
        "plt.plot(epochs, val_acc_values, 'b', label='Validation acc') \n",
        "plt.title('Training and validation accuracy') \n",
        "plt.xlabel('Epochs') \n",
        "plt.ylabel('Loss') \n",
        "plt.legend()\n",
        "\n",
        "plt.show()"
      ],
      "execution_count": 67,
      "outputs": [
        {
          "output_type": "stream",
          "text": [
            "Train on 604 samples, validate on 151 samples\n",
            "Epoch 1/50\n",
            "604/604 [==============================] - 0s 216us/step - loss: 0.5137 - acc: 0.7119 - val_loss: 0.4513 - val_acc: 0.7881\n",
            "Epoch 2/50\n",
            "604/604 [==============================] - 0s 30us/step - loss: 0.4442 - acc: 0.7699 - val_loss: 0.4133 - val_acc: 0.8212\n",
            "Epoch 3/50\n",
            "604/604 [==============================] - 0s 30us/step - loss: 0.4117 - acc: 0.7980 - val_loss: 0.3844 - val_acc: 0.8477\n",
            "Epoch 4/50\n",
            "604/604 [==============================] - 0s 31us/step - loss: 0.3866 - acc: 0.8162 - val_loss: 0.3609 - val_acc: 0.8609\n",
            "Epoch 5/50\n",
            "604/604 [==============================] - 0s 32us/step - loss: 0.3657 - acc: 0.8394 - val_loss: 0.3409 - val_acc: 0.8675\n",
            "Epoch 6/50\n",
            "604/604 [==============================] - 0s 29us/step - loss: 0.3466 - acc: 0.8526 - val_loss: 0.3210 - val_acc: 0.8808\n",
            "Epoch 7/50\n",
            "604/604 [==============================] - 0s 34us/step - loss: 0.3294 - acc: 0.8709 - val_loss: 0.3041 - val_acc: 0.8874\n",
            "Epoch 8/50\n",
            "604/604 [==============================] - 0s 30us/step - loss: 0.3138 - acc: 0.8791 - val_loss: 0.2888 - val_acc: 0.8940\n",
            "Epoch 9/50\n",
            "604/604 [==============================] - 0s 31us/step - loss: 0.2990 - acc: 0.8924 - val_loss: 0.2740 - val_acc: 0.9073\n",
            "Epoch 10/50\n",
            "604/604 [==============================] - 0s 30us/step - loss: 0.2847 - acc: 0.9040 - val_loss: 0.2610 - val_acc: 0.9073\n",
            "Epoch 11/50\n",
            "604/604 [==============================] - 0s 30us/step - loss: 0.2721 - acc: 0.9222 - val_loss: 0.2493 - val_acc: 0.9073\n",
            "Epoch 12/50\n",
            "604/604 [==============================] - 0s 30us/step - loss: 0.2598 - acc: 0.9255 - val_loss: 0.2374 - val_acc: 0.9139\n",
            "Epoch 13/50\n",
            "604/604 [==============================] - 0s 30us/step - loss: 0.2484 - acc: 0.9305 - val_loss: 0.2278 - val_acc: 0.9272\n",
            "Epoch 14/50\n",
            "604/604 [==============================] - 0s 30us/step - loss: 0.2375 - acc: 0.9305 - val_loss: 0.2167 - val_acc: 0.9338\n",
            "Epoch 15/50\n",
            "604/604 [==============================] - 0s 31us/step - loss: 0.2269 - acc: 0.9354 - val_loss: 0.2066 - val_acc: 0.9470\n",
            "Epoch 16/50\n",
            "604/604 [==============================] - 0s 35us/step - loss: 0.2170 - acc: 0.9387 - val_loss: 0.1971 - val_acc: 0.9536\n",
            "Epoch 17/50\n",
            "604/604 [==============================] - 0s 44us/step - loss: 0.2080 - acc: 0.9404 - val_loss: 0.1894 - val_acc: 0.9536\n",
            "Epoch 18/50\n",
            "604/604 [==============================] - 0s 33us/step - loss: 0.1997 - acc: 0.9404 - val_loss: 0.1814 - val_acc: 0.9536\n",
            "Epoch 19/50\n",
            "604/604 [==============================] - 0s 34us/step - loss: 0.1914 - acc: 0.9437 - val_loss: 0.1771 - val_acc: 0.9536\n",
            "Epoch 20/50\n",
            "604/604 [==============================] - 0s 34us/step - loss: 0.1851 - acc: 0.9437 - val_loss: 0.1726 - val_acc: 0.9536\n",
            "Epoch 21/50\n",
            "604/604 [==============================] - 0s 35us/step - loss: 0.1777 - acc: 0.9454 - val_loss: 0.1675 - val_acc: 0.9536\n",
            "Epoch 22/50\n",
            "604/604 [==============================] - 0s 34us/step - loss: 0.1714 - acc: 0.9454 - val_loss: 0.1614 - val_acc: 0.9603\n",
            "Epoch 23/50\n",
            "604/604 [==============================] - 0s 32us/step - loss: 0.1658 - acc: 0.9470 - val_loss: 0.1572 - val_acc: 0.9603\n",
            "Epoch 24/50\n",
            "604/604 [==============================] - 0s 32us/step - loss: 0.1605 - acc: 0.9470 - val_loss: 0.1532 - val_acc: 0.9603\n",
            "Epoch 25/50\n",
            "604/604 [==============================] - 0s 32us/step - loss: 0.1553 - acc: 0.9503 - val_loss: 0.1506 - val_acc: 0.9603\n",
            "Epoch 26/50\n",
            "604/604 [==============================] - 0s 30us/step - loss: 0.1504 - acc: 0.9536 - val_loss: 0.1472 - val_acc: 0.9669\n",
            "Epoch 27/50\n",
            "604/604 [==============================] - 0s 30us/step - loss: 0.1460 - acc: 0.9503 - val_loss: 0.1436 - val_acc: 0.9669\n",
            "Epoch 28/50\n",
            "604/604 [==============================] - 0s 33us/step - loss: 0.1421 - acc: 0.9536 - val_loss: 0.1383 - val_acc: 0.9669\n",
            "Epoch 29/50\n",
            "604/604 [==============================] - 0s 31us/step - loss: 0.1382 - acc: 0.9536 - val_loss: 0.1370 - val_acc: 0.9669\n",
            "Epoch 30/50\n",
            "604/604 [==============================] - 0s 43us/step - loss: 0.1346 - acc: 0.9570 - val_loss: 0.1360 - val_acc: 0.9669\n",
            "Epoch 31/50\n",
            "604/604 [==============================] - 0s 33us/step - loss: 0.1312 - acc: 0.9586 - val_loss: 0.1329 - val_acc: 0.9669\n",
            "Epoch 32/50\n",
            "604/604 [==============================] - 0s 29us/step - loss: 0.1283 - acc: 0.9553 - val_loss: 0.1304 - val_acc: 0.9669\n",
            "Epoch 33/50\n",
            "604/604 [==============================] - 0s 28us/step - loss: 0.1254 - acc: 0.9570 - val_loss: 0.1289 - val_acc: 0.9669\n",
            "Epoch 34/50\n",
            "604/604 [==============================] - 0s 28us/step - loss: 0.1222 - acc: 0.9586 - val_loss: 0.1268 - val_acc: 0.9669\n",
            "Epoch 35/50\n",
            "604/604 [==============================] - 0s 35us/step - loss: 0.1198 - acc: 0.9586 - val_loss: 0.1254 - val_acc: 0.9669\n",
            "Epoch 36/50\n",
            "604/604 [==============================] - 0s 35us/step - loss: 0.1171 - acc: 0.9586 - val_loss: 0.1254 - val_acc: 0.9669\n",
            "Epoch 37/50\n",
            "604/604 [==============================] - 0s 33us/step - loss: 0.1151 - acc: 0.9586 - val_loss: 0.1239 - val_acc: 0.9669\n",
            "Epoch 38/50\n",
            "604/604 [==============================] - 0s 41us/step - loss: 0.1123 - acc: 0.9619 - val_loss: 0.1227 - val_acc: 0.9669\n",
            "Epoch 39/50\n",
            "604/604 [==============================] - 0s 32us/step - loss: 0.1107 - acc: 0.9586 - val_loss: 0.1210 - val_acc: 0.9669\n",
            "Epoch 40/50\n",
            "604/604 [==============================] - 0s 31us/step - loss: 0.1085 - acc: 0.9586 - val_loss: 0.1203 - val_acc: 0.9669\n",
            "Epoch 41/50\n",
            "604/604 [==============================] - 0s 37us/step - loss: 0.1065 - acc: 0.9603 - val_loss: 0.1210 - val_acc: 0.9669\n",
            "Epoch 42/50\n",
            "604/604 [==============================] - 0s 30us/step - loss: 0.1054 - acc: 0.9586 - val_loss: 0.1195 - val_acc: 0.9669\n",
            "Epoch 43/50\n",
            "604/604 [==============================] - 0s 32us/step - loss: 0.1035 - acc: 0.9619 - val_loss: 0.1191 - val_acc: 0.9669\n",
            "Epoch 44/50\n",
            "604/604 [==============================] - 0s 43us/step - loss: 0.1013 - acc: 0.9652 - val_loss: 0.1221 - val_acc: 0.9669\n",
            "Epoch 45/50\n",
            "604/604 [==============================] - 0s 30us/step - loss: 0.0997 - acc: 0.9636 - val_loss: 0.1191 - val_acc: 0.9669\n",
            "Epoch 46/50\n",
            "604/604 [==============================] - 0s 30us/step - loss: 0.0983 - acc: 0.9652 - val_loss: 0.1217 - val_acc: 0.9735\n",
            "Epoch 47/50\n",
            "604/604 [==============================] - 0s 31us/step - loss: 0.0967 - acc: 0.9669 - val_loss: 0.1206 - val_acc: 0.9735\n",
            "Epoch 48/50\n",
            "604/604 [==============================] - 0s 32us/step - loss: 0.0953 - acc: 0.9652 - val_loss: 0.1220 - val_acc: 0.9735\n",
            "Epoch 49/50\n",
            "604/604 [==============================] - 0s 33us/step - loss: 0.0939 - acc: 0.9669 - val_loss: 0.1194 - val_acc: 0.9735\n",
            "Epoch 50/50\n",
            "604/604 [==============================] - 0s 35us/step - loss: 0.0915 - acc: 0.9685 - val_loss: 0.1202 - val_acc: 0.9735\n"
          ],
          "name": "stdout"
        },
        {
          "output_type": "display_data",
          "data": {
            "image/png": "[encoded data removed]",
            "text/plain": [
              "<Figure size 432x288 with 1 Axes>"
            ]
          },
          "metadata": {
            "tags": [],
            "needs_background": "light"
          }
        },
        {
          "output_type": "display_data",
          "data": {
            "image/png": "[encoded data removed]",
            "text/plain": [
              "<Figure size 432x288 with 1 Axes>"
            ]
          },
          "metadata": {
            "tags": [],
            "needs_background": "light"
          }
        }
      ]
    },
    {
      "cell_type": "code",
      "metadata": {
        "id": "NZbZcmemWKyJ",
        "colab_type": "code",
        "outputId": "d25cf95e-4a6b-4bbf-f7a0-3d848fb6eb94",
        "colab": {
          "base_uri": "https://localhost:8080/",
          "height": 102
        }
      },
      "source": [
        "classifiers = {\n",
        "    \"LogisiticRegression\": LogisticRegression(),\n",
        "    \"KNearest\": KNeighborsClassifier(),\n",
        "    \"Support Vector Classifier\": SVC(),\n",
        "    \"DecisionTreeClassifier\": DecisionTreeClassifier(),\n",
        "    \"RandomForestClassifier\": RandomForestClassifier()\n",
        "}\n",
        "\n",
        "from sklearn.model_selection import cross_val_score\n",
        "\n",
        "#cross-validation generator 5-fold cross validation\n",
        "\n",
        "for key, classifier in classifiers.items():\n",
        "    classifier.fit(X_train, y_train)\n",
        "    training_score = cross_val_score(classifier, X_train, y_train, cv=5)\n",
        "    print(\"Classifiers: \", classifier.__class__.__name__, \n",
        "          \"Has a training score of\",\n",
        "          round(training_score.mean(), 2) * 100,\n",
        "          \"% accuracy score\"\n",
        "          )"
      ],
      "execution_count": 68,
      "outputs": [
        {
          "output_type": "stream",
          "text": [
            "Classifiers:  LogisticRegression Has a training score of 94.0 % accuracy score\n",
            "Classifiers:  KNeighborsClassifier Has a training score of 94.0 % accuracy score\n",
            "Classifiers:  SVC Has a training score of 94.0 % accuracy score\n",
            "Classifiers:  DecisionTreeClassifier Has a training score of 91.0 % accuracy score\n",
            "Classifiers:  RandomForestClassifier Has a training score of 94.0 % accuracy score\n"
          ],
          "name": "stdout"
        }
      ]
    },
    {
      "cell_type": "markdown",
      "metadata": {
        "id": "V6-2Z7pMhiw3",
        "colab_type": "text"
      },
      "source": [
        "## Model Parmeter tunning\n",
        "* 최적의 파라미터 값을 찾기 위해 GridSerchCV()를 이용하여 최적화 수행"
      ]
    },
    {
      "cell_type": "code",
      "metadata": {
        "id": "r-jzY3Wyh2Uv",
        "colab_type": "code",
        "outputId": "a71f014d-cc38-480f-c833-1d148b2cc274",
        "colab": {
          "base_uri": "https://localhost:8080/",
          "height": 153
        }
      },
      "source": [
        "# Use GridSearchCV to find the best parameters.\n",
        "from sklearn.model_selection import GridSearchCV\n",
        "\n",
        "\n",
        "# Logistic Regression \n",
        "log_reg_params = {\"penalty\": ['l1', 'l2'], 'C': [0.001, 0.01, 0.1, 1, 10, 100, 1000]}\n",
        "\n",
        "grid_log_reg = GridSearchCV(LogisticRegression(), log_reg_params)\n",
        "grid_log_reg.fit(X_train, y_train)\n",
        "# We automatically get the logistic regression with the best parameters.\n",
        "log_reg = grid_log_reg.best_estimator_\n",
        "\n",
        "knears_params = {\"n_neighbors\": list(range(2,5,1)), 'algorithm': ['auto', 'ball_tree', 'kd_tree', 'brute']}\n",
        "\n",
        "# KNears best estimator\n",
        "grid_knears = GridSearchCV(KNeighborsClassifier(), knears_params)\n",
        "grid_knears.fit(X_train, y_train)\n",
        "\n",
        "knears_neighbors = grid_knears.best_estimator_\n",
        "\n",
        "# Support Vector Classifier\n",
        "svc_params = {'C': [0.5, 0.7, 0.9, 1], 'kernel': ['rbf', 'poly', 'sigmoid', 'linear']}\n",
        "grid_svc = GridSearchCV(SVC(), svc_params)\n",
        "grid_svc.fit(X_train, y_train)\n",
        "\n",
        "# SVC best estimator\n",
        "svc = grid_svc.best_estimator_\n",
        "\n",
        "# DecisionTree Classifier\n",
        "tree_params = {\"criterion\": [\"gini\", \"entropy\"], \"max_depth\": list(range(2,4,1)), \n",
        "              \"min_samples_leaf\": list(range(5,7,1))}\n",
        "grid_tree = GridSearchCV(DecisionTreeClassifier(), tree_params)\n",
        "grid_tree.fit(X_train, y_train)\n",
        "\n",
        "# tree best estimator\n",
        "tree_clf = grid_tree.best_estimator_\n",
        "\n",
        "# Randomforest Classifier\n",
        "param_grid = { \n",
        "    'n_estimators': [200, 400, 600],\n",
        "    'max_features': ['auto'],\n",
        "    'bootstrap': ['True']\n",
        "}\n",
        "grid_ran = GridSearchCV(RandomForestClassifier(), param_grid)\n",
        "grid_ran.fit(X_train, y_train)\n",
        "# Randomforest C best estimator\n",
        "ran = grid_ran.best_estimator_\n",
        "print(ran)"
      ],
      "execution_count": 69,
      "outputs": [
        {
          "output_type": "stream",
          "text": [
            "RandomForestClassifier(bootstrap='True', ccp_alpha=0.0, class_weight=None,\n",
            "                       criterion='gini', max_depth=None, max_features='auto',\n",
            "                       max_leaf_nodes=None, max_samples=None,\n",
            "                       min_impurity_decrease=0.0, min_impurity_split=None,\n",
            "                       min_samples_leaf=1, min_samples_split=2,\n",
            "                       min_weight_fraction_leaf=0.0, n_estimators=600,\n",
            "                       n_jobs=None, oob_score=False, random_state=None,\n",
            "                       verbose=0, warm_start=False)\n"
          ],
          "name": "stdout"
        }
      ]
    },
    {
      "cell_type": "code",
      "metadata": {
        "id": "EZFzU4gOh6WG",
        "colab_type": "code",
        "outputId": "6ed34c28-ff8c-477a-c1a9-80bc1e92797e",
        "colab": {
          "base_uri": "https://localhost:8080/",
          "height": 102
        }
      },
      "source": [
        "# Overfitting Case\n",
        "\n",
        "log_reg_score = cross_val_score(log_reg, X_train, y_train, cv=5)\n",
        "print('Logistic Regression Cross Validation Score: ', round(log_reg_score.mean() * 100, 2).astype(str) + '%')\n",
        "\n",
        "\n",
        "knears_score = cross_val_score(knears_neighbors, X_train, y_train, cv=5)\n",
        "print('Knears Neighbors Cross Validation Score', round(knears_score.mean() * 100, 2).astype(str) + '%')\n",
        "\n",
        "svc_score = cross_val_score(svc, X_train, y_train, cv=5)\n",
        "print('Support Vector Classifier Cross Validation Score', round(svc_score.mean() * 100, 2).astype(str) + '%')\n",
        "\n",
        "tree_score = cross_val_score(tree_clf, X_train, y_train, cv=5)\n",
        "print('DecisionTree Classifier Cross Validation Score', round(tree_score.mean() * 100, 2).astype(str) + '%')\n",
        "\n",
        "randomforest_score = cross_val_score(ran, X_train, y_train, cv=5)\n",
        "print('Randomforest Classifier Cross Validation Score', round(randomforest_score.mean() * 100, 2).astype(str) + '%')"
      ],
      "execution_count": 70,
      "outputs": [
        {
          "output_type": "stream",
          "text": [
            "Logistic Regression Cross Validation Score:  94.3%\n",
            "Knears Neighbors Cross Validation Score 93.25%\n",
            "Support Vector Classifier Cross Validation Score 94.3%\n",
            "DecisionTree Classifier Cross Validation Score 93.51%\n",
            "Randomforest Classifier Cross Validation Score 94.3%\n"
          ],
          "name": "stdout"
        }
      ]
    },
    {
      "cell_type": "code",
      "metadata": {
        "id": "4P06RJGWiU9z",
        "colab_type": "code",
        "colab": {}
      },
      "source": [
        "# Plot Learning Curve\n",
        "from sklearn.model_selection import ShuffleSplit\n",
        "from sklearn.model_selection import learning_curve\n",
        "\n",
        "def plot_learning_curve(estimator1, estimator2, estimator3, estimator4, estimator5, X, y, ylim=None, cv=None,\n",
        "                        n_jobs=1, train_sizes=np.linspace(.1, 1.0, 5)):\n",
        "    f, ((ax1, ax2), (ax3, ax4), (ax5, ax6)) = plt.subplots(3,2, figsize=(20,14), sharey=True)\n",
        "    if ylim is not None:\n",
        "        plt.ylim(*ylim)\n",
        "    # Logistic Regression\n",
        "    train_sizes, train_scores, test_scores = learning_curve(\n",
        "        estimator1, X, y, cv=cv, n_jobs=n_jobs, train_sizes=train_sizes)\n",
        "    train_scores_mean = np.mean(train_scores, axis=1)\n",
        "    train_scores_std = np.std(train_scores, axis=1)\n",
        "    test_scores_mean = np.mean(test_scores, axis=1)\n",
        "    test_scores_std = np.std(test_scores, axis=1)\n",
        "    ax1.fill_between(train_sizes, train_scores_mean - train_scores_std,\n",
        "                     train_scores_mean + train_scores_std, alpha=0.1,\n",
        "                     color=\"#ff9124\")\n",
        "    ax1.fill_between(train_sizes, test_scores_mean - test_scores_std,\n",
        "                     test_scores_mean + test_scores_std, alpha=0.1, color=\"#2492ff\")\n",
        "    ax1.plot(train_sizes, train_scores_mean, 'o-', color=\"#ff9124\",\n",
        "             label=\"Training score\")\n",
        "    ax1.plot(train_sizes, test_scores_mean, 'o-', color=\"#2492ff\",\n",
        "             label=\"Cross-validation score\")\n",
        "    ax1.set_title(\"Logistic Regression Learning Curve\", fontsize=12)\n",
        "    #ax1.set_xlabel('Training size (m)')\n",
        "    ax1.set_ylabel('Score')\n",
        "    ax1.grid(True)\n",
        "    ax1.legend(loc=\"best\")\n",
        "    \n",
        "    # KNN \n",
        "    train_sizes, train_scores, test_scores = learning_curve(\n",
        "        estimator2, X, y, cv=cv, n_jobs=n_jobs, train_sizes=train_sizes)\n",
        "    train_scores_mean = np.mean(train_scores, axis=1)\n",
        "    train_scores_std = np.std(train_scores, axis=1)\n",
        "    test_scores_mean = np.mean(test_scores, axis=1)\n",
        "    test_scores_std = np.std(test_scores, axis=1)\n",
        "    ax2.fill_between(train_sizes, train_scores_mean - train_scores_std,\n",
        "                     train_scores_mean + train_scores_std, alpha=0.1,\n",
        "                     color=\"#ff9124\")\n",
        "    ax2.fill_between(train_sizes, test_scores_mean - test_scores_std,\n",
        "                     test_scores_mean + test_scores_std, alpha=0.1, color=\"#2492ff\")\n",
        "    ax2.plot(train_sizes, train_scores_mean, 'o-', color=\"#ff9124\",\n",
        "             label=\"Training score\")\n",
        "    ax2.plot(train_sizes, test_scores_mean, 'o-', color=\"#2492ff\",\n",
        "             label=\"Cross-validation score\")\n",
        "    ax2.set_title(\"Knears Neighbors Learning Curve\", fontsize=12)\n",
        "    #ax2.set_xlabel('Training size (m)')\n",
        "    ax2.set_ylabel('Score')\n",
        "    ax2.grid(True)\n",
        "    ax2.legend(loc=\"best\")\n",
        "    \n",
        "    # SVM\n",
        "    train_sizes, train_scores, test_scores = learning_curve(\n",
        "        estimator3, X, y, cv=cv, n_jobs=n_jobs, train_sizes=train_sizes)\n",
        "    train_scores_mean = np.mean(train_scores, axis=1)\n",
        "    train_scores_std = np.std(train_scores, axis=1)\n",
        "    test_scores_mean = np.mean(test_scores, axis=1)\n",
        "    test_scores_std = np.std(test_scores, axis=1)\n",
        "    ax3.fill_between(train_sizes, train_scores_mean - train_scores_std,\n",
        "                     train_scores_mean + train_scores_std, alpha=0.1,\n",
        "                     color=\"#ff9124\")\n",
        "    ax3.fill_between(train_sizes, test_scores_mean - test_scores_std,\n",
        "                     test_scores_mean + test_scores_std, alpha=0.1, color=\"#2492ff\")\n",
        "    ax3.plot(train_sizes, train_scores_mean, 'o-', color=\"#ff9124\",\n",
        "             label=\"Training score\")\n",
        "    ax3.plot(train_sizes, test_scores_mean, 'o-', color=\"#2492ff\",\n",
        "             label=\"Cross-validation score\")\n",
        "    ax3.set_title(\"Support Vector Classifier \\n Learning Curve\", fontsize=12)\n",
        "    #ax3.set_xlabel('Training size (m)')\n",
        "    ax3.set_ylabel('Score')\n",
        "    ax3.grid(True)\n",
        "    ax3.legend(loc=\"best\")\n",
        "    \n",
        "    # Decison Tree\n",
        "    train_sizes, train_scores, test_scores = learning_curve(\n",
        "        estimator4, X, y, cv=cv, n_jobs=n_jobs, train_sizes=train_sizes)\n",
        "    train_scores_mean = np.mean(train_scores, axis=1)\n",
        "    train_scores_std = np.std(train_scores, axis=1)\n",
        "    test_scores_mean = np.mean(test_scores, axis=1)\n",
        "    test_scores_std = np.std(test_scores, axis=1)\n",
        "    ax4.fill_between(train_sizes, train_scores_mean - train_scores_std,\n",
        "                     train_scores_mean + train_scores_std, alpha=0.1,\n",
        "                     color=\"#ff9124\")\n",
        "    ax4.fill_between(train_sizes, test_scores_mean - test_scores_std,\n",
        "                     test_scores_mean + test_scores_std, alpha=0.1, color=\"#2492ff\")\n",
        "    ax4.plot(train_sizes, train_scores_mean, 'o-', color=\"#ff9124\",\n",
        "             label=\"Training score\")\n",
        "    ax4.plot(train_sizes, test_scores_mean, 'o-', color=\"#2492ff\",\n",
        "             label=\"Cross-validation score\")\n",
        "    ax4.set_title(\"Decision Tree Classifier \\n Learning Curve\", fontsize=12)\n",
        "    #ax4.set_xlabel('Training size (m)')\n",
        "    ax4.set_ylabel('Score')\n",
        "    ax4.grid(True)\n",
        "    ax4.legend(loc=\"best\")\n",
        "   \n",
        "\n",
        "    # Random forest\n",
        "    train_sizes, train_scores, test_scores = learning_curve(\n",
        "        estimator5, X, y, cv=cv, n_jobs=n_jobs, train_sizes=train_sizes)\n",
        "    train_scores_mean = np.mean(train_scores, axis=1)\n",
        "    train_scores_std = np.std(train_scores, axis=1)\n",
        "    test_scores_mean = np.mean(test_scores, axis=1)\n",
        "    test_scores_std = np.std(test_scores, axis=1)\n",
        "    ax5.fill_between(train_sizes, train_scores_mean - train_scores_std,\n",
        "                     train_scores_mean + train_scores_std, alpha=0.1,\n",
        "                     color=\"#ff9124\")\n",
        "    ax5.fill_between(train_sizes, test_scores_mean - test_scores_std,\n",
        "                     test_scores_mean + test_scores_std, alpha=0.1, color=\"#2492ff\")\n",
        "    ax5.plot(train_sizes, train_scores_mean, 'o-', color=\"#ff9124\",\n",
        "             label=\"Training score\")\n",
        "    ax5.plot(train_sizes, test_scores_mean, 'o-', color=\"#2492ff\",\n",
        "             label=\"Cross-validation score\")\n",
        "    ax5.set_title(\"Randomforest Learning Curve\", fontsize=12)\n",
        "    #ax5.set_xlabel('Training size (m)')\n",
        "    ax5.set_ylabel('Score')\n",
        "    ax5.grid(True)\n",
        "    ax5.legend(loc=\"best\")\n",
        "    return plt"
      ],
      "execution_count": 0,
      "outputs": []
    },
    {
      "cell_type": "code",
      "metadata": {
        "id": "7afAPd67uCXm",
        "colab_type": "code",
        "outputId": "e6c981bb-7d7c-4f13-d8f1-7fea22cb993a",
        "colab": {
          "base_uri": "https://localhost:8080/",
          "height": 744
        }
      },
      "source": [
        "cv = ShuffleSplit(n_splits=100, test_size=0.2, random_state=10)\n",
        "plot_learning_curve(log_reg, knears_neighbors, svc, tree_clf, ran, X_train, y_train, (0.87, 1.01), cv=cv, n_jobs=4)\n",
        "\n"
      ],
      "execution_count": 72,
      "outputs": [
        {
          "output_type": "execute_result",
          "data": {
            "text/plain": [
              "<module 'matplotlib.pyplot' from '/usr/local/lib/python3.6/dist-packages/matplotlib/pyplot.py'>"
            ]
          },
          "metadata": {
            "tags": []
          },
          "execution_count": 72
        },
        {
          "output_type": "display_data",
          "data": {
            "image/png": "[encoded data removed]",
            "text/plain": [
              "<Figure size 1440x1008 with 6 Axes>"
            ]
          },
          "metadata": {
            "tags": [],
            "needs_background": "light"
          }
        }
      ]
    },
    {
      "cell_type": "code",
      "metadata": {
        "id": "Iq6sWJfPv3PO",
        "colab_type": "code",
        "outputId": "395c58cb-d1e7-4ea6-a893-83805660db48",
        "colab": {
          "base_uri": "https://localhost:8080/",
          "height": 265
        }
      },
      "source": [
        "from sklearn.model_selection import learning_curve\n",
        "import matplotlib.pyplot as plt\n",
        "\n",
        "train_sizes, train_scores, test_scores = learning_curve(\n",
        "        ran,X_train, y_train, cv=5, n_jobs=4, train_sizes=np.linspace(.1, 1.0, 10))\n",
        "plt.plot(train_sizes, np.mean(train_scores, axis=1), 'o-', color=\"#ff9124\",\n",
        "             label=\"Training score\")\n",
        "plt.plot(train_sizes, np.mean(test_scores, axis=1), 'o-', color=\"#2492ff\",\n",
        "             label=\"Cross-validation score\")\n",
        "#plt.set_title(\"Randomforest Learning Curve\", fontsize=12)\n",
        "    #ax6.set_xlabel('Training size (m)')\n",
        "#plt.set_ylabel('Score')\n",
        "plt.grid(True)\n",
        "plt.legend(loc=\"best\")\n",
        "plt.show()"
      ],
      "execution_count": 27,
      "outputs": [
        {
          "output_type": "display_data",
          "data": {
            "image/png": "[encoded data removed]",
            "text/plain": [
              "<Figure size 432x288 with 1 Axes>"
            ]
          },
          "metadata": {
            "tags": [],
            "needs_background": "light"
          }
        }
      ]
    },
    {
      "cell_type": "markdown",
      "metadata": {
        "id": "VonTopTGxzq0",
        "colab_type": "text"
      },
      "source": [
        "##Confusion Matrix 분석\n",
        "![대체 텍스트](https://glassboxmedicine.files.wordpress.com/2019/02/confusion-matrix.png?w=816)\n",
        "* Confusion Matrix는 모델 성능 평가할 때 사용하여  모델의 강점과 약점을 더 잘 이해할 있음.\n",
        "- TP(True Positive) - 맞는 것을 올바르게 맞다고 예측한 것\n",
        "- TN(True Negative) - 아닌 것을 올바르게 틀리다고 예측한 것\n",
        "- FP(False Positive) - 아닌 것을 올바르지 않게 맞다고 예측한 것\n",
        "- FN(False Negative) - 맞는 것을 올바르지 않게 틀리다고 예측한 것\n",
        "\n",
        "* Confusino Matrix based model evaluation list  \n",
        "\n",
        "![대체 텍스트](http://blog.skby.net/blog/wp-content/uploads/2018/12/2-47.png)\n"
      ]
    },
    {
      "cell_type": "code",
      "metadata": {
        "id": "n_4C258g0Gkk",
        "colab_type": "code",
        "colab": {
          "base_uri": "https://localhost:8080/",
          "height": 612
        },
        "outputId": "16388ac1-5b19-488a-b22d-00e18408bccb"
      },
      "source": [
        "from sklearn.metrics import confusion_matrix\n",
        "\n",
        "# Logistic Regression fitted using SMOTE technique\n",
        "y_pred_log_reg = log_reg.predict(X_test)\n",
        "\n",
        "# Other models fitted with UnderSampling\n",
        "y_pred_knear = knears_neighbors.predict(X_test)\n",
        "y_pred_svc = svc.predict(X_test)\n",
        "y_pred_tree = tree_clf.predict(X_test)\n",
        "y_pred_random = grid_ran.predict(X_test)\n",
        "\n",
        "log_reg_cf = confusion_matrix(y_test, y_pred_log_reg)\n",
        "kneighbors_cf = confusion_matrix(y_test, y_pred_knear)\n",
        "svc_cf = confusion_matrix(y_test, y_pred_svc)\n",
        "tree_cf = confusion_matrix(y_test, y_pred_tree)\n",
        "ran = confusion_matrix(y_test, y_pred_random)\n",
        "\n",
        "fig, ax = plt.subplots(3, 2,figsize=(22,12))\n",
        "\n",
        "\n",
        "sns.heatmap(log_reg_cf, ax=ax[0][0], annot=True, cmap=plt.cm.copper)\n",
        "ax[0, 0].set_title(\"Logistic Regression \\n Confusion Matrix\", fontsize=14)\n",
        "ax[0, 0].set_xticklabels(['', ''], fontsize=14, rotation=90)\n",
        "ax[0, 0].set_yticklabels(['', ''], fontsize=14, rotation=360)\n",
        "\n",
        "sns.heatmap(kneighbors_cf, ax=ax[0][1], annot=True, cmap=plt.cm.copper)\n",
        "ax[0][1].set_title(\"KNearsNeighbors \\n Confusion Matrix\", fontsize=14)\n",
        "ax[0][1].set_xticklabels(['', ''], fontsize=14, rotation=90)\n",
        "ax[0][1].set_yticklabels(['', ''], fontsize=14, rotation=360)\n",
        "\n",
        "sns.heatmap(svc_cf, ax=ax[1][0], annot=True, cmap=plt.cm.copper)\n",
        "ax[1][0].set_title(\"Suppor Vector Classifier \\n Confusion Matrix\", fontsize=14)\n",
        "ax[1][0].set_xticklabels(['', ''], fontsize=14, rotation=90)\n",
        "ax[1][0].set_yticklabels(['', ''], fontsize=14, rotation=360)\n",
        "\n",
        "sns.heatmap(tree_cf, ax=ax[1][1], annot=True, cmap=plt.cm.copper)\n",
        "ax[1][1].set_title(\"DecisionTree Classifier \\n Confusion Matrix\", fontsize=14)\n",
        "ax[1][1].set_xticklabels(['', ''], fontsize=14, rotation=90)\n",
        "ax[1][1].set_yticklabels(['', ''], fontsize=14, rotation=360)\n",
        "\n",
        "sns.heatmap(ran, ax=ax[2][0], annot=True, cmap=plt.cm.copper)\n",
        "ax[2][0].set_title(\"Randomforest Classifier \\n Confusion Matrix\", fontsize=14)\n",
        "ax[2][0].set_xticklabels(['', ''], fontsize=14, rotation=90)\n",
        "ax[2][0].set_yticklabels(['', ''], fontsize=14, rotation=360)\n",
        "\n",
        "plt.show()"
      ],
      "execution_count": 54,
      "outputs": [
        {
          "output_type": "display_data",
          "data": {
            "image/png": "[encoded data removed]",
            "text/plain": [
              "<Figure size 1584x864 with 11 Axes>"
            ]
          },
          "metadata": {
            "tags": [],
            "needs_background": "light"
          }
        }
      ]
    },
    {
      "cell_type": "markdown",
      "metadata": {
        "id": "iPHT6u5TQlQT",
        "colab_type": "text"
      },
      "source": [
        "## SMOTE(Synthetic Minority Over-sampling Technique)기법을 이용한 Over-Sampling  \n",
        "* SMOTE는 클래스의 균형을 유지하기 위해 새로운 합성 포인트를 만듬. \"클래스 불균형 문제\" 해결\n",
        "* minority class의 가장 가까운 이웃 사이의 거리를 선택하고 이 거리 사이에서 합성 점을 만듬\n",
        "* Random under sampling과 달리 data row를 삭제할 필요가 없으므로 추가 정보가 유지"
      ]
    },
    {
      "cell_type": "markdown",
      "metadata": {
        "id": "rUpCPh90vlXf",
        "colab_type": "text"
      },
      "source": [
        "![대체 텍스트](https://raw.githubusercontent.com/rikunert/SMOTE_visualisation/master/SMOTE_R_visualisation_3.png)  \n"
      ]
    },
    {
      "cell_type": "code",
      "metadata": {
        "id": "FlpceblcQuHg",
        "colab_type": "code",
        "outputId": "84b3d04a-44ab-40e8-db3b-143f5b8bbe6f",
        "colab": {
          "base_uri": "https://localhost:8080/",
          "height": 190
        }
      },
      "source": [
        "from imblearn.over_sampling import SMOTE\n",
        "from sklearn.model_selection import train_test_split, RandomizedSearchCV\n",
        "\n",
        "\n",
        "print('Length of X (train): {} | Length of y (train): {}'.format(len(original_Xtrain), len(original_ytrain)))\n",
        "print('Length of X (test): {} | Length of y (test): {}'.format(len(original_Xtest), len(original_ytest)))\n",
        "\n",
        "# List to append the score and then find the average\n",
        "accuracy_lst = []\n",
        "precision_lst = []\n",
        "recall_lst = []\n",
        "f1_lst = []\n",
        "auc_lst = []\n",
        "\n",
        "# Classifier with optimal parameters\n",
        "log_reg_sm = grid_log_reg.best_estimator_\n",
        "#log_reg_sm = LogisticRegression()\n",
        "\n",
        "log_reg_params = {\"penalty\": ['l1', 'l2'], 'C': [0.001, 0.01, 0.1, 1, 10, 100, 1000]}\n",
        "\n",
        "rand_log_reg = RandomizedSearchCV(LogisticRegression(), log_reg_params, n_iter=4)\n",
        "\n",
        "\n",
        "# Implementing SMOTE Technique \n",
        "# Cross Validating the right way\n",
        "# Parameters\n",
        "\n",
        "for train, test in s_data.split(original_Xtrain, original_ytrain):\n",
        "    pipeline = imbalanced_make_pipeline(SMOTE(sampling_strategy='minority'), rand_log_reg) # SMOTE happens during Cross Validation not before..\n",
        "    model = pipeline.fit(original_Xtrain[train], original_ytrain[train])\n",
        "    best_est = rand_log_reg.best_estimator_\n",
        "    prediction = best_est.predict(original_Xtrain[test])\n",
        "    \n",
        "    accuracy_lst.append(pipeline.score(original_Xtrain[test], original_ytrain[test]))\n",
        "    precision_lst.append(precision_score(original_ytrain[test], prediction))\n",
        "    recall_lst.append(recall_score(original_ytrain[test], prediction))\n",
        "    f1_lst.append(f1_score(original_ytrain[test], prediction))\n",
        "    auc_lst.append(roc_auc_score(original_ytrain[test], prediction))\n",
        "    \n",
        "print('---' * 45)\n",
        "print('')\n",
        "print(\"accuracy: {}\".format(np.mean(accuracy_lst)))\n",
        "print(\"precision: {}\".format(np.mean(precision_lst)))\n",
        "print(\"recall: {}\".format(np.mean(recall_lst)))\n",
        "print(\"f1: {}\".format(np.mean(f1_lst)))\n",
        "print('---' * 45)"
      ],
      "execution_count": 44,
      "outputs": [
        {
          "output_type": "stream",
          "text": [
            "Length of X (train): 227846 | Length of y (train): 227846\n",
            "Length of X (test): 56961 | Length of y (test): 56961\n",
            "---------------------------------------------------------------------------------------------------------------------------------------\n",
            "\n",
            "accuracy: 0.949865792220902\n",
            "precision: 0.06230401676974244\n",
            "recall: 0.9137293086660175\n",
            "f1: 0.1148545406020319\n",
            "---------------------------------------------------------------------------------------------------------------------------------------\n"
          ],
          "name": "stdout"
        }
      ]
    },
    {
      "cell_type": "code",
      "metadata": {
        "id": "FCNswD1GZzJ6",
        "colab_type": "code",
        "outputId": "5d6f905b-7c82-462a-edee-6efeb5bba523",
        "colab": {
          "base_uri": "https://localhost:8080/",
          "height": 170
        }
      },
      "source": [
        "labels = ['No Fraud', 'Fraud']\n",
        "smote_prediction = best_est.predict(original_Xtest)\n",
        "print(classification_report(original_ytest, smote_prediction, target_names=labels))"
      ],
      "execution_count": 45,
      "outputs": [
        {
          "output_type": "stream",
          "text": [
            "              precision    recall  f1-score   support\n",
            "\n",
            "    No Fraud       1.00      0.99      0.99     56863\n",
            "       Fraud       0.11      0.86      0.19        98\n",
            "\n",
            "    accuracy                           0.99     56961\n",
            "   macro avg       0.55      0.92      0.59     56961\n",
            "weighted avg       1.00      0.99      0.99     56961\n",
            "\n"
          ],
          "name": "stdout"
        }
      ]
    },
    {
      "cell_type": "code",
      "metadata": {
        "id": "UN9gVAh1HExm",
        "colab_type": "code",
        "colab": {
          "base_uri": "https://localhost:8080/",
          "height": 269
        },
        "outputId": "62fc55c2-93ba-4ce9-910b-e899cdd67b26"
      },
      "source": [
        "from sklearn.metrics import confusion_matrix\n",
        "\n",
        "prediction = best_est.predict(X_test)\n",
        "\n",
        "log_reg = confusion_matrix(y_test, prediction)\n",
        "\n",
        "sns.heatmap(log_reg, annot=True, cmap=plt.cm.copper)\n",
        "\n",
        "plt.show()"
      ],
      "execution_count": 61,
      "outputs": [
        {
          "output_type": "display_data",
          "data": {
            "image/png": "[encoded data removed]",
            "text/plain": [
              "<Figure size 432x288 with 2 Axes>"
            ]
          },
          "metadata": {
            "tags": [],
            "needs_background": "light"
          }
        }
      ]
    }
  ]
}